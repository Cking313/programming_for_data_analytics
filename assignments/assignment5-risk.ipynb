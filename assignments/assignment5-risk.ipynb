{
 "cells": [
  {
   "cell_type": "code",
   "execution_count": 67,
   "id": "0a6c1b31-b2f0-4674-9e92-05b099bfe73d",
   "metadata": {},
   "outputs": [
    {
     "name": "stdout",
     "output_type": "stream",
     "text": [
      "attackers rolled: [5, 3, 2]\n",
      "defenders rolled: [5, 2]\n",
      "Attackers lose 1, defenders lose 1\n"
     ]
    },
    {
     "data": {
      "text/plain": [
       "{'attacker_diff': -1, 'defender_diff': -1}"
      ]
     },
     "execution_count": 67,
     "metadata": {},
     "output_type": "execute_result"
    }
   ],
   "source": [
    "import random\n",
    "\n",
    "def roll_d6():\n",
    "    return random.choice(range(1,7))\n",
    "\n",
    "def risk_combat(attackers=3, defenders=2, silent=True):\n",
    "    attackers_0 = attackers\n",
    "    defenders_0 = defenders\n",
    "    \n",
    "    attacker_rolls = sorted([roll_d6() for _ in range(min(attackers, 3))])[::-1]\n",
    "    defender_rolls = sorted([roll_d6() for _ in range(min(defenders, 3))])[::-1]\n",
    "\n",
    "    if attacker_rolls[0] <= defender_rolls[0]:\n",
    "        attackers -= 1\n",
    "    else:\n",
    "        defenders -= 1\n",
    "    try:\n",
    "        if attacker_rolls[1] <= defender_rolls[1]:\n",
    "            attackers -= 1\n",
    "        else:\n",
    "            defenders -= 1\n",
    "    except:\n",
    "        pass\n",
    "    if not silent:\n",
    "        print(f'attackers rolled: {attacker_rolls}')\n",
    "        print(f'defenders rolled: {defender_rolls}')\n",
    "        print(f'Attackers lose {attackers_0 - attackers}, defenders lose {defenders_0 - defenders}')\n",
    "\n",
    "    return {\n",
    "        \"attacker_diff\": attackers - attackers_0,\n",
    "        \"defender_diff\": defenders - defenders_0\n",
    "    }\n",
    "    \n",
    "\n",
    "risk_combat(silent=False)\n"
   ]
  },
  {
   "cell_type": "code",
   "execution_count": 62,
   "id": "4e5cff9b-0e49-46b4-8a3b-b8d6de77edf2",
   "metadata": {},
   "outputs": [],
   "source": [
    "simulation_results = [risk_combat() for _ in range(1000)]"
   ]
  },
  {
   "cell_type": "code",
   "execution_count": 63,
   "id": "35cf7d16-a869-40e8-af5d-fb35eeef0806",
   "metadata": {
    "jupyter": {
     "source_hidden": true
    }
   },
   "outputs": [
    {
     "data": {
      "text/plain": [
       "1000"
      ]
     },
     "execution_count": 63,
     "metadata": {},
     "output_type": "execute_result"
    }
   ],
   "source": [
    "len(simulation_results)"
   ]
  },
  {
   "cell_type": "code",
   "execution_count": null,
   "id": "76bc4557-bde5-4fa7-96c5-daff18060dd9",
   "metadata": {},
   "outputs": [],
   "source": []
  },
  {
   "cell_type": "code",
   "execution_count": null,
   "id": "6204737c-d7e3-475a-8bb7-d8c799a8c18d",
   "metadata": {},
   "outputs": [],
   "source": []
  },
  {
   "cell_type": "code",
   "execution_count": null,
   "id": "42876e39-179a-47c7-b14d-3ff1e9e32f07",
   "metadata": {},
   "outputs": [],
   "source": []
  },
  {
   "cell_type": "code",
   "execution_count": 72,
   "id": "d42f3211-4e51-442f-b3d6-289d8a8fd1f6",
   "metadata": {},
   "outputs": [
    {
     "name": "stdout",
     "output_type": "stream",
     "text": [
      "attackers rolled: [4, 4, 3]\n",
      "defenders rolled: [3, 3]\n",
      "Attackers lose 0, defenders lose 2\n",
      "Attacking army size: 10\n",
      "Defending army size: 8\n",
      "attackers rolled: [6, 4, 1]\n",
      "defenders rolled: [3, 1]\n",
      "Attackers lose 0, defenders lose 2\n",
      "Attacking army size: 10\n",
      "Defending army size: 6\n",
      "attackers rolled: [5, 5, 5]\n",
      "defenders rolled: [6, 2]\n",
      "Attackers lose 1, defenders lose 1\n",
      "Attacking army size: 9\n",
      "Defending army size: 5\n",
      "attackers rolled: [5, 5, 4]\n",
      "defenders rolled: [6, 3]\n",
      "Attackers lose 1, defenders lose 1\n",
      "Attacking army size: 8\n",
      "Defending army size: 4\n",
      "attackers rolled: [6, 3, 2]\n",
      "defenders rolled: [6, 4]\n",
      "Attackers lose 2, defenders lose 0\n",
      "Attacking army size: 6\n",
      "Defending army size: 4\n",
      "attackers rolled: [6, 5, 5]\n",
      "defenders rolled: [6, 2]\n",
      "Attackers lose 1, defenders lose 1\n",
      "Attacking army size: 5\n",
      "Defending army size: 3\n",
      "attackers rolled: [4, 2, 1]\n",
      "defenders rolled: [6, 4]\n",
      "Attackers lose 2, defenders lose 0\n",
      "Attacking army size: 3\n",
      "Defending army size: 3\n",
      "attackers rolled: [4, 4, 2]\n",
      "defenders rolled: [5, 2]\n",
      "Attackers lose 1, defenders lose 1\n",
      "Attacking army size: 2\n",
      "Defending army size: 2\n",
      "attackers rolled: [2, 1]\n",
      "defenders rolled: [5, 4]\n",
      "Attackers lose 2, defenders lose 0\n",
      "Attacking army size: 0\n",
      "Defending army size: 2\n"
     ]
    },
    {
     "data": {
      "text/plain": [
       "'Defenders win'"
      ]
     },
     "execution_count": 72,
     "metadata": {},
     "output_type": "execute_result"
    }
   ],
   "source": [
    "def risk_war(attacking_army, defending_army, silent=True):\n",
    "    if attacking_army <= 0:\n",
    "        return 'Defenders win'\n",
    "    if defending_army <= 0:\n",
    "        return 'Attackers win'\n",
    "    skirmish_results = risk_combat(min(attacking_army, 3), min(defending_army, 2), silent=silent)\n",
    "    attacking_army += skirmish_results['attacker_diff']\n",
    "    defending_army += skirmish_results['defender_diff']\n",
    "    print(f'Attacking army size: {attacking_army}')\n",
    "    print(f'Defending army size: {defending_army}')\n",
    "    \n",
    "    return risk_war(attacking_army, defending_army, silent=silent)\n",
    "\n",
    "    \n",
    "risk_war(attacking_army=10, defending_army=10, silent=False)\n",
    "    "
   ]
  }
 ],
 "metadata": {
  "kernelspec": {
   "display_name": "Python 3 (ipykernel)",
   "language": "python",
   "name": "python3"
  },
  "language_info": {
   "codemirror_mode": {
    "name": "ipython",
    "version": 3
   },
   "file_extension": ".py",
   "mimetype": "text/x-python",
   "name": "python",
   "nbconvert_exporter": "python",
   "pygments_lexer": "ipython3",
   "version": "3.11.5"
  }
 },
 "nbformat": 4,
 "nbformat_minor": 5
}
