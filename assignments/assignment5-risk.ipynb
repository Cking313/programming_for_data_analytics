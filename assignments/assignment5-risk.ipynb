{
 "cells": [
  {
   "cell_type": "code",
   "execution_count": 47,
   "id": "0a6c1b31-b2f0-4674-9e92-05b099bfe73d",
   "metadata": {},
   "outputs": [
    {
     "name": "stdout",
     "output_type": "stream",
     "text": [
      "attackers rolled: [4, 2, 1]\n",
      "defenders rolled: [6, 1]\n"
     ]
    }
   ],
   "source": [
    "import random\n",
    "\n",
    "def roll_d6():\n",
    "    return random.choice(range(1,7))\n",
    "\n",
    "def risk_combat(attackers=3, defenders=2):\n",
    "    attackers_0 = attackers\n",
    "    defenders_0 = defenders\n",
    "    \n",
    "    attacker_rolls = sorted([roll_d6() for _ in range(min(attackers, 3))])[::-1]\n",
    "    print(f'attackers rolled: {attacker_rolls}')\n",
    "    defender_rolls = sorted([roll_d6() for _ in range(min(defenders, 3))])[::-1]\n",
    "    print(f'defenders rolled: {defender_rolls}')\n",
    "\n",
    "    if attacker_rolls[0] <= defender_rolls[0]:\n",
    "        attackers -= 1\n",
    "    else:\n",
    "        defenders -= 1\n",
    "\n",
    "    if attacker_rolls[1] <= defender_rolls[1]:\n",
    "        attackers -= 1\n",
    "    else:\n",
    "        defenders -= 1\n",
    "\n",
    "    print(f'Attackers lose {attackers_0 - attackers}, defenders lose {defenders_0 - defenders}')\n",
    "\n",
    "risk_combat()\n"
   ]
  }
 ],
 "metadata": {
  "kernelspec": {
   "display_name": "Python 3 (ipykernel)",
   "language": "python",
   "name": "python3"
  },
  "language_info": {
   "codemirror_mode": {
    "name": "ipython",
    "version": 3
   },
   "file_extension": ".py",
   "mimetype": "text/x-python",
   "name": "python",
   "nbconvert_exporter": "python",
   "pygments_lexer": "ipython3",
   "version": "3.11.5"
  }
 },
 "nbformat": 4,
 "nbformat_minor": 5
}
