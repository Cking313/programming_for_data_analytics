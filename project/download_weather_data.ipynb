{
 "cells": [
  {
   "cell_type": "code",
   "execution_count": 7,
   "id": "8f465402-8a3d-4a5d-b91e-2e2e946cfc1c",
   "metadata": {},
   "outputs": [],
   "source": [
    "import pandas as pd\n",
    "import requests\n",
    "from tqdm import tqdm\n",
    "from pathlib import Path\n",
    "import os"
   ]
  },
  {
   "cell_type": "code",
   "execution_count": 8,
   "id": "20aec812-ac48-4acf-aefc-f40e482ea882",
   "metadata": {},
   "outputs": [
    {
     "data": {
      "text/plain": [
       "'/Users/colleenking/Documents/college/programming_for_data_analytics/project'"
      ]
     },
     "execution_count": 8,
     "metadata": {},
     "output_type": "execute_result"
    }
   ],
   "source": [
    "os.getcwd()"
   ]
  },
  {
   "cell_type": "code",
   "execution_count": 10,
   "id": "65212edf-2978-4db1-8230-b23c5c3b0184",
   "metadata": {},
   "outputs": [],
   "source": [
    "data_dir = Path(\"./data\")\n",
    "\n",
    "if not data_dir.exists():\n",
    "    os.mkdir(data_dir)\n",
    "    os.mkdir(data_dir / \"weather_data\")"
   ]
  },
  {
   "cell_type": "markdown",
   "id": "0270b0b9-0e9e-4853-8da6-46e59e8b2bec",
   "metadata": {},
   "source": [
    "Read in the details of all weather stations - some lines aren't parsed correctly so these are skipped\n",
    "\n",
    "We get the county, station name, the station id (station name), the height above sea level, location both in easting/northing and latitude/longitude, the open and close years"
   ]
  },
  {
   "cell_type": "code",
   "execution_count": 24,
   "id": "fec0fe70-5393-4901-a490-e843a12954c6",
   "metadata": {},
   "outputs": [
    {
     "data": {
      "text/html": [
       "<div>\n",
       "<style scoped>\n",
       "    .dataframe tbody tr th:only-of-type {\n",
       "        vertical-align: middle;\n",
       "    }\n",
       "\n",
       "    .dataframe tbody tr th {\n",
       "        vertical-align: top;\n",
       "    }\n",
       "\n",
       "    .dataframe thead th {\n",
       "        text-align: right;\n",
       "    }\n",
       "</style>\n",
       "<table border=\"1\" class=\"dataframe\">\n",
       "  <thead>\n",
       "    <tr style=\"text-align: right;\">\n",
       "      <th></th>\n",
       "      <th>county</th>\n",
       "      <th>station name</th>\n",
       "      <th>name</th>\n",
       "      <th>height(m)</th>\n",
       "      <th>easting</th>\n",
       "      <th>northing</th>\n",
       "      <th>latitude</th>\n",
       "      <th>longitude</th>\n",
       "      <th>open year</th>\n",
       "      <th>close year</th>\n",
       "    </tr>\n",
       "  </thead>\n",
       "  <tbody>\n",
       "    <tr>\n",
       "      <th>0</th>\n",
       "      <td>Antrim</td>\n",
       "      <td>5880</td>\n",
       "      <td>LH_RATHLIN_WEST</td>\n",
       "      <td>10</td>\n",
       "      <td>309200</td>\n",
       "      <td>451800</td>\n",
       "      <td>55.30083</td>\n",
       "      <td>-6.28028</td>\n",
       "      <td>2000</td>\n",
       "      <td>(null)</td>\n",
       "    </tr>\n",
       "    <tr>\n",
       "      <th>1</th>\n",
       "      <td>Carlow</td>\n",
       "      <td>4415</td>\n",
       "      <td>TULLOW (Waterworks)</td>\n",
       "      <td>76</td>\n",
       "      <td>284700</td>\n",
       "      <td>173400</td>\n",
       "      <td>52.80528</td>\n",
       "      <td>-6.74306</td>\n",
       "      <td>1985</td>\n",
       "      <td>(null)</td>\n",
       "    </tr>\n",
       "    <tr>\n",
       "      <th>2</th>\n",
       "      <td>Carlow</td>\n",
       "      <td>2414</td>\n",
       "      <td>BORRIS G.S.</td>\n",
       "      <td>85</td>\n",
       "      <td>272400</td>\n",
       "      <td>150700</td>\n",
       "      <td>52.60278</td>\n",
       "      <td>-6.93056</td>\n",
       "      <td>1944</td>\n",
       "      <td>1991</td>\n",
       "    </tr>\n",
       "    <tr>\n",
       "      <th>3</th>\n",
       "      <td>Carlow</td>\n",
       "      <td>1214</td>\n",
       "      <td>CARLOW (SUGAR FACTORY)</td>\n",
       "      <td>58</td>\n",
       "      <td>272200</td>\n",
       "      <td>178400</td>\n",
       "      <td>52.85139</td>\n",
       "      <td>-6.92778</td>\n",
       "      <td>1953</td>\n",
       "      <td>1960</td>\n",
       "    </tr>\n",
       "    <tr>\n",
       "      <th>4</th>\n",
       "      <td>Carlow</td>\n",
       "      <td>115</td>\n",
       "      <td>HACKETSTOWN RECTORY</td>\n",
       "      <td>182</td>\n",
       "      <td>297600</td>\n",
       "      <td>180500</td>\n",
       "      <td>52.86667</td>\n",
       "      <td>-6.55000</td>\n",
       "      <td>1910</td>\n",
       "      <td>1944</td>\n",
       "    </tr>\n",
       "  </tbody>\n",
       "</table>\n",
       "</div>"
      ],
      "text/plain": [
       "   county  station name                    name  height(m)  easting  northing  \\\n",
       "0  Antrim          5880         LH_RATHLIN_WEST         10   309200    451800   \n",
       "1  Carlow          4415     TULLOW (Waterworks)         76   284700    173400   \n",
       "2  Carlow          2414             BORRIS G.S.         85   272400    150700   \n",
       "3  Carlow          1214  CARLOW (SUGAR FACTORY)         58   272200    178400   \n",
       "4  Carlow           115     HACKETSTOWN RECTORY        182   297600    180500   \n",
       "\n",
       "   latitude  longitude open year close year  \n",
       "0  55.30083   -6.28028      2000     (null)  \n",
       "1  52.80528   -6.74306      1985     (null)  \n",
       "2  52.60278   -6.93056      1944       1991  \n",
       "3  52.85139   -6.92778      1953       1960  \n",
       "4  52.86667   -6.55000      1910       1944  "
      ]
     },
     "execution_count": 24,
     "metadata": {},
     "output_type": "execute_result"
    }
   ],
   "source": [
    "station_details_url = \"http://cli.fusio.net/cli/climate_data/webdata/StationDetails.csv\"\n",
    "\n",
    "station_df = pd.read_csv(station_details_url, on_bad_lines='skip')\n",
    "\n",
    "station_df.head()"
   ]
  },
  {
   "cell_type": "code",
   "execution_count": 14,
   "id": "fe2f8129-f758-4456-bccb-f24e4f3a9b4e",
   "metadata": {},
   "outputs": [
    {
     "data": {
      "text/plain": [
       "county           object\n",
       "station name      int64\n",
       "name             object\n",
       "height(m)         int64\n",
       "easting           int64\n",
       "northing          int64\n",
       "latitude        float64\n",
       "longitude       float64\n",
       "open year        object\n",
       "close year       object\n",
       "dtype: object"
      ]
     },
     "execution_count": 14,
     "metadata": {},
     "output_type": "execute_result"
    }
   ],
   "source": [
    "station_df.dtypes"
   ]
  },
  {
   "cell_type": "markdown",
   "id": "58d92abc-3951-4d15-a64b-3c0c74679e06",
   "metadata": {},
   "source": [
    "The open and close years are stored as stings, but we want them as ints"
   ]
  },
  {
   "cell_type": "code",
   "execution_count": 26,
   "id": "59634905-f99e-43cf-bc8c-cfdaed90216f",
   "metadata": {
    "scrolled": true
   },
   "outputs": [
    {
     "data": {
      "text/html": [
       "<div>\n",
       "<style scoped>\n",
       "    .dataframe tbody tr th:only-of-type {\n",
       "        vertical-align: middle;\n",
       "    }\n",
       "\n",
       "    .dataframe tbody tr th {\n",
       "        vertical-align: top;\n",
       "    }\n",
       "\n",
       "    .dataframe thead th {\n",
       "        text-align: right;\n",
       "    }\n",
       "</style>\n",
       "<table border=\"1\" class=\"dataframe\">\n",
       "  <thead>\n",
       "    <tr style=\"text-align: right;\">\n",
       "      <th></th>\n",
       "      <th>county</th>\n",
       "      <th>station name</th>\n",
       "      <th>name</th>\n",
       "      <th>height(m)</th>\n",
       "      <th>easting</th>\n",
       "      <th>northing</th>\n",
       "      <th>latitude</th>\n",
       "      <th>longitude</th>\n",
       "      <th>open year</th>\n",
       "      <th>close year</th>\n",
       "    </tr>\n",
       "  </thead>\n",
       "  <tbody>\n",
       "    <tr>\n",
       "      <th>0</th>\n",
       "      <td>Antrim</td>\n",
       "      <td>5880</td>\n",
       "      <td>LH_RATHLIN_WEST</td>\n",
       "      <td>10</td>\n",
       "      <td>309200</td>\n",
       "      <td>451800</td>\n",
       "      <td>55.30083</td>\n",
       "      <td>-6.28028</td>\n",
       "      <td>2000</td>\n",
       "      <td>&lt;NA&gt;</td>\n",
       "    </tr>\n",
       "    <tr>\n",
       "      <th>1</th>\n",
       "      <td>Carlow</td>\n",
       "      <td>4415</td>\n",
       "      <td>TULLOW (Waterworks)</td>\n",
       "      <td>76</td>\n",
       "      <td>284700</td>\n",
       "      <td>173400</td>\n",
       "      <td>52.80528</td>\n",
       "      <td>-6.74306</td>\n",
       "      <td>1985</td>\n",
       "      <td>&lt;NA&gt;</td>\n",
       "    </tr>\n",
       "    <tr>\n",
       "      <th>2</th>\n",
       "      <td>Carlow</td>\n",
       "      <td>2414</td>\n",
       "      <td>BORRIS G.S.</td>\n",
       "      <td>85</td>\n",
       "      <td>272400</td>\n",
       "      <td>150700</td>\n",
       "      <td>52.60278</td>\n",
       "      <td>-6.93056</td>\n",
       "      <td>1944</td>\n",
       "      <td>1991</td>\n",
       "    </tr>\n",
       "    <tr>\n",
       "      <th>3</th>\n",
       "      <td>Carlow</td>\n",
       "      <td>1214</td>\n",
       "      <td>CARLOW (SUGAR FACTORY)</td>\n",
       "      <td>58</td>\n",
       "      <td>272200</td>\n",
       "      <td>178400</td>\n",
       "      <td>52.85139</td>\n",
       "      <td>-6.92778</td>\n",
       "      <td>1953</td>\n",
       "      <td>1960</td>\n",
       "    </tr>\n",
       "    <tr>\n",
       "      <th>4</th>\n",
       "      <td>Carlow</td>\n",
       "      <td>115</td>\n",
       "      <td>HACKETSTOWN RECTORY</td>\n",
       "      <td>182</td>\n",
       "      <td>297600</td>\n",
       "      <td>180500</td>\n",
       "      <td>52.86667</td>\n",
       "      <td>-6.55000</td>\n",
       "      <td>1910</td>\n",
       "      <td>1944</td>\n",
       "    </tr>\n",
       "  </tbody>\n",
       "</table>\n",
       "</div>"
      ],
      "text/plain": [
       "   county  station name                    name  height(m)  easting  northing  \\\n",
       "0  Antrim          5880         LH_RATHLIN_WEST         10   309200    451800   \n",
       "1  Carlow          4415     TULLOW (Waterworks)         76   284700    173400   \n",
       "2  Carlow          2414             BORRIS G.S.         85   272400    150700   \n",
       "3  Carlow          1214  CARLOW (SUGAR FACTORY)         58   272200    178400   \n",
       "4  Carlow           115     HACKETSTOWN RECTORY        182   297600    180500   \n",
       "\n",
       "   latitude  longitude  open year  close year  \n",
       "0  55.30083   -6.28028       2000        <NA>  \n",
       "1  52.80528   -6.74306       1985        <NA>  \n",
       "2  52.60278   -6.93056       1944        1991  \n",
       "3  52.85139   -6.92778       1953        1960  \n",
       "4  52.86667   -6.55000       1910        1944  "
      ]
     },
     "execution_count": 26,
     "metadata": {},
     "output_type": "execute_result"
    }
   ],
   "source": [
    "station_df[\"close year\"] = station_df[\"close year\"].replace('(null)', None).astype('Int64')\n",
    "station_df[\"open year\"] = station_df[\"open year\"].replace('(null)', None).astype('Int64')\n",
    "station_df.head()"
   ]
  },
  {
   "cell_type": "code",
   "execution_count": 27,
   "id": "9b126373-ce3c-47d6-8d40-35b8f19bc50a",
   "metadata": {},
   "outputs": [
    {
     "data": {
      "text/plain": [
       "county           object\n",
       "station name      int64\n",
       "name             object\n",
       "height(m)         int64\n",
       "easting           int64\n",
       "northing          int64\n",
       "latitude        float64\n",
       "longitude       float64\n",
       "open year         Int64\n",
       "close year        Int64\n",
       "dtype: object"
      ]
     },
     "execution_count": 27,
     "metadata": {},
     "output_type": "execute_result"
    }
   ],
   "source": [
    "station_df.dtypes"
   ]
  },
  {
   "cell_type": "code",
   "execution_count": 28,
   "id": "fc8bebb3-14bf-490e-b831-230bafafcf26",
   "metadata": {},
   "outputs": [],
   "source": [
    "station_df.to_csv(data_dir / \"stations.csv\", index=False)"
   ]
  },
  {
   "cell_type": "markdown",
   "id": "12923e99-c02f-4fc2-b99e-3a66f5cd54b6",
   "metadata": {},
   "source": [
    "We can use the station id to download daily data automatically because the download url is predictable - replacing the station id gives the filename we're looking for (https://cli.fusio.net/cli/climate_data/webdata/dly[station_id].csv)\n",
    "\n",
    "We also don't care about closed stations, so we only need the rows where close year is null"
   ]
  },
  {
   "cell_type": "code",
   "execution_count": 64,
   "id": "db13ebea-a23f-4c1b-9d0c-d12e1329af57",
   "metadata": {},
   "outputs": [
    {
     "data": {
      "text/plain": [
       "1550"
      ]
     },
     "execution_count": 64,
     "metadata": {},
     "output_type": "execute_result"
    }
   ],
   "source": [
    "open_stations = list(station_df[~pd.isna(station_df[\"close year\"])][\"station name\"])\n",
    "len(open_stations)"
   ]
  },
  {
   "cell_type": "markdown",
   "id": "7108acf2-6c03-4486-9483-c2e6978bc1bb",
   "metadata": {},
   "source": [
    "1550 is a lot of stations - each file is about 2mb, so in total this would be around 3Gb if we naively downloaded it all. We should just get a sample a few from each county instead.\n",
    "\n",
    "5 stations * 26 counties * 2mb gives around 260mb, which is much more reasonable"
   ]
  },
  {
   "cell_type": "code",
   "execution_count": 39,
   "id": "e5e008f8-788d-4a9c-bb62-acde460a984e",
   "metadata": {},
   "outputs": [
    {
     "name": "stdout",
     "output_type": "stream",
     "text": [
      "130\n"
     ]
    },
    {
     "name": "stderr",
     "output_type": "stream",
     "text": [
      "/var/folders/s7/bsy4w2n54pvcvlbx9jg9h2040000gn/T/ipykernel_13248/2311088952.py:3: DeprecationWarning: DataFrameGroupBy.apply operated on the grouping columns. This behavior is deprecated, and in a future version of pandas the grouping columns will be excluded from the operation. Either pass `include_groups=False` to exclude the groupings or explicitly select the grouping columns after groupby to silence this warning.\n",
      "  sample_stations = station_df[~pd.isna(station_df[\"close year\"])].groupby('county').apply(lambda x: x.sample(5)).reset_index(drop=True)\n"
     ]
    },
    {
     "data": {
      "text/html": [
       "<div>\n",
       "<style scoped>\n",
       "    .dataframe tbody tr th:only-of-type {\n",
       "        vertical-align: middle;\n",
       "    }\n",
       "\n",
       "    .dataframe tbody tr th {\n",
       "        vertical-align: top;\n",
       "    }\n",
       "\n",
       "    .dataframe thead th {\n",
       "        text-align: right;\n",
       "    }\n",
       "</style>\n",
       "<table border=\"1\" class=\"dataframe\">\n",
       "  <thead>\n",
       "    <tr style=\"text-align: right;\">\n",
       "      <th></th>\n",
       "      <th>county</th>\n",
       "      <th>station name</th>\n",
       "      <th>name</th>\n",
       "      <th>height(m)</th>\n",
       "      <th>easting</th>\n",
       "      <th>northing</th>\n",
       "      <th>latitude</th>\n",
       "      <th>longitude</th>\n",
       "      <th>open year</th>\n",
       "      <th>close year</th>\n",
       "    </tr>\n",
       "  </thead>\n",
       "  <tbody>\n",
       "    <tr>\n",
       "      <th>0</th>\n",
       "      <td>Carlow</td>\n",
       "      <td>6014</td>\n",
       "      <td>CLASHGANNA MILLS</td>\n",
       "      <td>27</td>\n",
       "      <td>273800</td>\n",
       "      <td>146200</td>\n",
       "      <td>52.56250</td>\n",
       "      <td>-6.91111</td>\n",
       "      <td>1987</td>\n",
       "      <td>1989</td>\n",
       "    </tr>\n",
       "    <tr>\n",
       "      <th>1</th>\n",
       "      <td>Carlow</td>\n",
       "      <td>4814</td>\n",
       "      <td>CARLOW (Oak Park)</td>\n",
       "      <td>61</td>\n",
       "      <td>273000</td>\n",
       "      <td>179500</td>\n",
       "      <td>52.86111</td>\n",
       "      <td>-6.91528</td>\n",
       "      <td>1967</td>\n",
       "      <td>1996</td>\n",
       "    </tr>\n",
       "    <tr>\n",
       "      <th>2</th>\n",
       "      <td>Carlow</td>\n",
       "      <td>515</td>\n",
       "      <td>TULLOW (MT.ST.JOSEPH'S)</td>\n",
       "      <td>79</td>\n",
       "      <td>285800</td>\n",
       "      <td>171800</td>\n",
       "      <td>52.79028</td>\n",
       "      <td>-6.72778</td>\n",
       "      <td>1949</td>\n",
       "      <td>1960</td>\n",
       "    </tr>\n",
       "    <tr>\n",
       "      <th>3</th>\n",
       "      <td>Carlow</td>\n",
       "      <td>5314</td>\n",
       "      <td>BAGENALSTOWN (FENAGH II)</td>\n",
       "      <td>104</td>\n",
       "      <td>277700</td>\n",
       "      <td>161500</td>\n",
       "      <td>52.69917</td>\n",
       "      <td>-6.85111</td>\n",
       "      <td>1982</td>\n",
       "      <td>1989</td>\n",
       "    </tr>\n",
       "    <tr>\n",
       "      <th>4</th>\n",
       "      <td>Carlow</td>\n",
       "      <td>6914</td>\n",
       "      <td>GARRYHILL (MILLTOWN)</td>\n",
       "      <td>107</td>\n",
       "      <td>278600</td>\n",
       "      <td>158700</td>\n",
       "      <td>52.67389</td>\n",
       "      <td>-6.83750</td>\n",
       "      <td>2003</td>\n",
       "      <td>2005</td>\n",
       "    </tr>\n",
       "  </tbody>\n",
       "</table>\n",
       "</div>"
      ],
      "text/plain": [
       "   county  station name                      name  height(m)  easting  \\\n",
       "0  Carlow          6014          CLASHGANNA MILLS         27   273800   \n",
       "1  Carlow          4814         CARLOW (Oak Park)         61   273000   \n",
       "2  Carlow           515   TULLOW (MT.ST.JOSEPH'S)         79   285800   \n",
       "3  Carlow          5314  BAGENALSTOWN (FENAGH II)        104   277700   \n",
       "4  Carlow          6914      GARRYHILL (MILLTOWN)        107   278600   \n",
       "\n",
       "   northing  latitude  longitude  open year  close year  \n",
       "0    146200  52.56250   -6.91111       1987        1989  \n",
       "1    179500  52.86111   -6.91528       1967        1996  \n",
       "2    171800  52.79028   -6.72778       1949        1960  \n",
       "3    161500  52.69917   -6.85111       1982        1989  \n",
       "4    158700  52.67389   -6.83750       2003        2005  "
      ]
     },
     "execution_count": 39,
     "metadata": {},
     "output_type": "execute_result"
    }
   ],
   "source": [
    "# https://stackoverflow.com/questions/22472213/python-random-selection-per-group\n",
    "\n",
    "sample_stations = station_df[~pd.isna(station_df[\"close year\"])].groupby('county').apply(lambda x: x.sample(5)).reset_index(drop=True)\n",
    "\n",
    "print(len(sample_stations))\n",
    "sample_stations.head()\n"
   ]
  },
  {
   "cell_type": "code",
   "execution_count": 41,
   "id": "96517699-dd94-499a-8b45-f4328e16ee88",
   "metadata": {},
   "outputs": [
    {
     "name": "stderr",
     "output_type": "stream",
     "text": [
      "  2%|▋                                          | 2/130 [00:00<00:23,  5.44it/s]"
     ]
    },
    {
     "name": "stdout",
     "output_type": "stream",
     "text": [
      "Couldn't retrieve data for station 6014\n",
      "Couldn't retrieve data for station 4814\n"
     ]
    },
    {
     "name": "stderr",
     "output_type": "stream",
     "text": [
      "  3%|█▎                                         | 4/130 [00:00<00:21,  5.92it/s]"
     ]
    },
    {
     "name": "stdout",
     "output_type": "stream",
     "text": [
      "Couldn't retrieve data for station 515\n",
      "Couldn't retrieve data for station 5314\n"
     ]
    },
    {
     "name": "stderr",
     "output_type": "stream",
     "text": [
      "  5%|█▉                                         | 6/130 [00:01<00:21,  5.80it/s]"
     ]
    },
    {
     "name": "stdout",
     "output_type": "stream",
     "text": [
      "Couldn't retrieve data for station 6914\n",
      "Couldn't retrieve data for station 1437\n"
     ]
    },
    {
     "name": "stderr",
     "output_type": "stream",
     "text": [
      "  6%|██▋                                        | 8/130 [00:01<00:21,  5.81it/s]"
     ]
    },
    {
     "name": "stdout",
     "output_type": "stream",
     "text": [
      "Couldn't retrieve data for station 2637\n",
      "Couldn't retrieve data for station 1330\n"
     ]
    },
    {
     "name": "stderr",
     "output_type": "stream",
     "text": [
      "  8%|███▏                                      | 10/130 [00:01<00:19,  6.20it/s]"
     ]
    },
    {
     "name": "stdout",
     "output_type": "stream",
     "text": [
      "Couldn't retrieve data for station 2431\n",
      "Couldn't retrieve data for station 1737\n"
     ]
    },
    {
     "name": "stderr",
     "output_type": "stream",
     "text": [
      "  9%|███▉                                      | 12/130 [00:02<00:19,  6.16it/s]"
     ]
    },
    {
     "name": "stdout",
     "output_type": "stream",
     "text": [
      "Couldn't retrieve data for station 1518\n",
      "Couldn't retrieve data for station 1618\n"
     ]
    },
    {
     "name": "stderr",
     "output_type": "stream",
     "text": [
      " 11%|████▌                                     | 14/130 [00:02<00:20,  5.53it/s]"
     ]
    },
    {
     "name": "stdout",
     "output_type": "stream",
     "text": [
      "Couldn't retrieve data for station 1711\n",
      "Couldn't retrieve data for station 1611\n"
     ]
    },
    {
     "name": "stderr",
     "output_type": "stream",
     "text": [
      " 12%|████▊                                     | 15/130 [00:02<00:20,  5.71it/s]"
     ]
    },
    {
     "name": "stdout",
     "output_type": "stream",
     "text": [
      "Couldn't retrieve data for station 118\n"
     ]
    },
    {
     "name": "stderr",
     "output_type": "stream",
     "text": [
      " 13%|█████▍                                    | 17/130 [00:02<00:20,  5.46it/s]"
     ]
    },
    {
     "name": "stdout",
     "output_type": "stream",
     "text": [
      "Couldn't retrieve data for station 1801\n",
      "Couldn't retrieve data for station 3202\n"
     ]
    },
    {
     "name": "stderr",
     "output_type": "stream",
     "text": [
      " 15%|██████▍                                   | 20/130 [00:03<00:22,  4.97it/s]"
     ]
    },
    {
     "name": "stdout",
     "output_type": "stream",
     "text": [
      "Couldn't retrieve data for station 4406\n"
     ]
    },
    {
     "name": "stderr",
     "output_type": "stream",
     "text": [
      " 17%|███████                                   | 22/130 [00:04<00:20,  5.34it/s]"
     ]
    },
    {
     "name": "stdout",
     "output_type": "stream",
     "text": [
      "Couldn't retrieve data for station 1940\n",
      "Couldn't retrieve data for station 1640\n"
     ]
    },
    {
     "name": "stderr",
     "output_type": "stream",
     "text": [
      " 18%|███████▍                                  | 23/130 [00:04<00:19,  5.63it/s]"
     ]
    },
    {
     "name": "stdout",
     "output_type": "stream",
     "text": [
      "Couldn't retrieve data for station 2142\n"
     ]
    },
    {
     "name": "stderr",
     "output_type": "stream",
     "text": [
      " 19%|████████                                  | 25/130 [00:04<00:18,  5.71it/s]"
     ]
    },
    {
     "name": "stdout",
     "output_type": "stream",
     "text": [
      "Couldn't retrieve data for station 641\n",
      "Couldn't retrieve data for station 1840\n"
     ]
    },
    {
     "name": "stderr",
     "output_type": "stream",
     "text": [
      " 20%|████████▍                                 | 26/130 [00:04<00:17,  6.06it/s]"
     ]
    },
    {
     "name": "stdout",
     "output_type": "stream",
     "text": [
      "Couldn't retrieve data for station 1623\n"
     ]
    },
    {
     "name": "stderr",
     "output_type": "stream",
     "text": [
      " 21%|████████▋                                 | 27/130 [00:04<00:19,  5.16it/s]"
     ]
    },
    {
     "name": "stdout",
     "output_type": "stream",
     "text": [
      "Couldn't retrieve data for station 232\n"
     ]
    },
    {
     "name": "stderr",
     "output_type": "stream",
     "text": [
      " 22%|█████████▎                                | 29/130 [00:05<00:19,  5.15it/s]"
     ]
    },
    {
     "name": "stdout",
     "output_type": "stream",
     "text": [
      "Couldn't retrieve data for station 9623\n",
      "Couldn't retrieve data for station 2923\n"
     ]
    },
    {
     "name": "stderr",
     "output_type": "stream",
     "text": [
      " 24%|██████████                                | 31/130 [00:05<00:19,  5.16it/s]"
     ]
    },
    {
     "name": "stdout",
     "output_type": "stream",
     "text": [
      "Couldn't retrieve data for station 10223\n",
      "Couldn't retrieve data for station 1626\n"
     ]
    },
    {
     "name": "stderr",
     "output_type": "stream",
     "text": [
      " 25%|██████████▋                               | 33/130 [00:06<00:18,  5.30it/s]"
     ]
    },
    {
     "name": "stdout",
     "output_type": "stream",
     "text": [
      "Couldn't retrieve data for station 1025\n",
      "Couldn't retrieve data for station 1028\n"
     ]
    },
    {
     "name": "stderr",
     "output_type": "stream",
     "text": [
      " 27%|███████████▎                              | 35/130 [00:06<00:16,  5.65it/s]"
     ]
    },
    {
     "name": "stdout",
     "output_type": "stream",
     "text": [
      "Couldn't retrieve data for station 1828\n",
      "Couldn't retrieve data for station 325\n"
     ]
    },
    {
     "name": "stderr",
     "output_type": "stream",
     "text": [
      " 28%|███████████▉                              | 37/130 [00:06<00:15,  6.14it/s]"
     ]
    },
    {
     "name": "stdout",
     "output_type": "stream",
     "text": [
      "Couldn't retrieve data for station 709\n",
      "Couldn't retrieve data for station 9705\n"
     ]
    },
    {
     "name": "stderr",
     "output_type": "stream",
     "text": [
      " 30%|████████████▌                             | 39/130 [00:07<00:13,  6.71it/s]"
     ]
    },
    {
     "name": "stdout",
     "output_type": "stream",
     "text": [
      "Couldn't retrieve data for station 3110\n",
      "Couldn't retrieve data for station 4005\n"
     ]
    },
    {
     "name": "stderr",
     "output_type": "stream",
     "text": [
      " 32%|█████████████▏                            | 41/130 [00:07<00:14,  6.02it/s]"
     ]
    },
    {
     "name": "stdout",
     "output_type": "stream",
     "text": [
      "Couldn't retrieve data for station 2210\n",
      "Couldn't retrieve data for station 114\n"
     ]
    },
    {
     "name": "stderr",
     "output_type": "stream",
     "text": [
      " 33%|█████████████▉                            | 43/130 [00:07<00:15,  5.53it/s]"
     ]
    },
    {
     "name": "stdout",
     "output_type": "stream",
     "text": [
      "Couldn't retrieve data for station 8323\n",
      "Couldn't retrieve data for station 3714\n"
     ]
    },
    {
     "name": "stderr",
     "output_type": "stream",
     "text": [
      " 35%|██████████████▌                           | 45/130 [00:08<00:14,  5.87it/s]"
     ]
    },
    {
     "name": "stdout",
     "output_type": "stream",
     "text": [
      "Couldn't retrieve data for station 5114\n",
      "Couldn't retrieve data for station 2914\n"
     ]
    },
    {
     "name": "stderr",
     "output_type": "stream",
     "text": [
      " 36%|███████████████▏                          | 47/130 [00:08<00:15,  5.44it/s]"
     ]
    },
    {
     "name": "stdout",
     "output_type": "stream",
     "text": [
      "Couldn't retrieve data for station 4013\n",
      "Couldn't retrieve data for station 713\n"
     ]
    },
    {
     "name": "stderr",
     "output_type": "stream",
     "text": [
      " 38%|███████████████▊                          | 49/130 [00:08<00:14,  5.41it/s]"
     ]
    },
    {
     "name": "stdout",
     "output_type": "stream",
     "text": [
      "Couldn't retrieve data for station 2913\n",
      "Couldn't retrieve data for station 7912\n"
     ]
    },
    {
     "name": "stderr",
     "output_type": "stream",
     "text": [
      " 39%|████████████████▍                         | 51/130 [00:09<00:13,  5.91it/s]"
     ]
    },
    {
     "name": "stdout",
     "output_type": "stream",
     "text": [
      "Couldn't retrieve data for station 2413\n",
      "Couldn't retrieve data for station 3413\n"
     ]
    },
    {
     "name": "stderr",
     "output_type": "stream",
     "text": [
      " 41%|█████████████████                         | 53/130 [00:09<00:12,  6.14it/s]"
     ]
    },
    {
     "name": "stdout",
     "output_type": "stream",
     "text": [
      "Couldn't retrieve data for station 3313\n",
      "Couldn't retrieve data for station 113\n"
     ]
    },
    {
     "name": "stderr",
     "output_type": "stream",
     "text": [
      " 42%|█████████████████▍                        | 54/130 [00:09<00:11,  6.46it/s]"
     ]
    },
    {
     "name": "stdout",
     "output_type": "stream",
     "text": [
      "Couldn't retrieve data for station 613\n"
     ]
    },
    {
     "name": "stderr",
     "output_type": "stream",
     "text": [
      " 43%|██████████████████                        | 56/130 [00:09<00:12,  5.93it/s]"
     ]
    },
    {
     "name": "stdout",
     "output_type": "stream",
     "text": [
      "Couldn't retrieve data for station 4614\n",
      "Couldn't retrieve data for station 529\n"
     ]
    },
    {
     "name": "stderr",
     "output_type": "stream",
     "text": [
      " 44%|██████████████████▍                       | 57/130 [00:10<00:11,  6.16it/s]"
     ]
    },
    {
     "name": "stdout",
     "output_type": "stream",
     "text": [
      "Couldn't retrieve data for station 9929\n"
     ]
    },
    {
     "name": "stderr",
     "output_type": "stream",
     "text": [
      " 45%|██████████████████▋                       | 58/130 [00:10<00:12,  5.65it/s]"
     ]
    },
    {
     "name": "stdout",
     "output_type": "stream",
     "text": [
      "Couldn't retrieve data for station 2137\n"
     ]
    },
    {
     "name": "stderr",
     "output_type": "stream",
     "text": [
      " 46%|███████████████████▍                      | 60/130 [00:10<00:12,  5.44it/s]"
     ]
    },
    {
     "name": "stdout",
     "output_type": "stream",
     "text": [
      "Couldn't retrieve data for station 1436\n",
      "Couldn't retrieve data for station 1129\n"
     ]
    },
    {
     "name": "stderr",
     "output_type": "stream",
     "text": [
      " 48%|████████████████████                      | 62/130 [00:11<00:11,  5.86it/s]"
     ]
    },
    {
     "name": "stdout",
     "output_type": "stream",
     "text": [
      "Couldn't retrieve data for station 110\n",
      "Couldn't retrieve data for station 811\n"
     ]
    },
    {
     "name": "stderr",
     "output_type": "stream",
     "text": [
      " 49%|████████████████████▋                     | 64/130 [00:11<00:12,  5.45it/s]"
     ]
    },
    {
     "name": "stdout",
     "output_type": "stream",
     "text": [
      "Couldn't retrieve data for station 2411\n",
      "Couldn't retrieve data for station 4411\n"
     ]
    },
    {
     "name": "stderr",
     "output_type": "stream",
     "text": [
      " 51%|█████████████████████▎                    | 66/130 [00:11<00:10,  6.05it/s]"
     ]
    },
    {
     "name": "stdout",
     "output_type": "stream",
     "text": [
      "Couldn't retrieve data for station 3811\n",
      "Couldn't retrieve data for station 4429\n"
     ]
    },
    {
     "name": "stderr",
     "output_type": "stream",
     "text": [
      " 52%|█████████████████████▋                    | 67/130 [00:12<00:12,  5.17it/s]"
     ]
    },
    {
     "name": "stdout",
     "output_type": "stream",
     "text": [
      "Couldn't retrieve data for station 1629\n"
     ]
    },
    {
     "name": "stderr",
     "output_type": "stream",
     "text": [
      " 53%|██████████████████████▎                   | 69/130 [00:12<00:11,  5.27it/s]"
     ]
    },
    {
     "name": "stdout",
     "output_type": "stream",
     "text": [
      "Couldn't retrieve data for station 1230\n",
      "Couldn't retrieve data for station 2329\n"
     ]
    },
    {
     "name": "stderr",
     "output_type": "stream",
     "text": [
      " 55%|██████████████████████▉                   | 71/130 [00:12<00:10,  5.57it/s]"
     ]
    },
    {
     "name": "stdout",
     "output_type": "stream",
     "text": [
      "Couldn't retrieve data for station 2029\n",
      "Couldn't retrieve data for station 1138\n"
     ]
    },
    {
     "name": "stderr",
     "output_type": "stream",
     "text": [
      " 56%|███████████████████████▌                  | 73/130 [00:12<00:08,  6.40it/s]"
     ]
    },
    {
     "name": "stdout",
     "output_type": "stream",
     "text": [
      "Couldn't retrieve data for station 2838\n",
      "Couldn't retrieve data for station 2538\n"
     ]
    },
    {
     "name": "stderr",
     "output_type": "stream",
     "text": [
      " 57%|███████████████████████▉                  | 74/130 [00:13<00:08,  6.28it/s]"
     ]
    },
    {
     "name": "stdout",
     "output_type": "stream",
     "text": [
      "Couldn't retrieve data for station 1738\n"
     ]
    },
    {
     "name": "stderr",
     "output_type": "stream",
     "text": [
      " 59%|████████████████████████▉                 | 77/130 [00:14<00:12,  4.41it/s]"
     ]
    },
    {
     "name": "stdout",
     "output_type": "stream",
     "text": [
      "Couldn't retrieve data for station 3835\n",
      "Couldn't retrieve data for station 934\n"
     ]
    },
    {
     "name": "stderr",
     "output_type": "stream",
     "text": [
      " 61%|█████████████████████████▌                | 79/130 [00:14<00:09,  5.12it/s]"
     ]
    },
    {
     "name": "stdout",
     "output_type": "stream",
     "text": [
      "Couldn't retrieve data for station 626\n",
      "Couldn't retrieve data for station 1833\n"
     ]
    },
    {
     "name": "stderr",
     "output_type": "stream",
     "text": [
      " 62%|█████████████████████████▊                | 80/130 [00:14<00:09,  5.09it/s]"
     ]
    },
    {
     "name": "stdout",
     "output_type": "stream",
     "text": [
      "Couldn't retrieve data for station 434\n"
     ]
    },
    {
     "name": "stderr",
     "output_type": "stream",
     "text": [
      " 63%|██████████████████████████▍               | 82/130 [00:15<00:09,  4.83it/s]"
     ]
    },
    {
     "name": "stdout",
     "output_type": "stream",
     "text": [
      "Couldn't retrieve data for station 132\n",
      "Couldn't retrieve data for station 4431\n"
     ]
    },
    {
     "name": "stderr",
     "output_type": "stream",
     "text": [
      " 65%|███████████████████████████▏              | 84/130 [00:15<00:09,  4.81it/s]"
     ]
    },
    {
     "name": "stdout",
     "output_type": "stream",
     "text": [
      "Couldn't retrieve data for station 2531\n",
      "Couldn't retrieve data for station 638\n"
     ]
    },
    {
     "name": "stderr",
     "output_type": "stream",
     "text": [
      " 65%|███████████████████████████▍              | 85/130 [00:15<00:08,  5.19it/s]"
     ]
    },
    {
     "name": "stdout",
     "output_type": "stream",
     "text": [
      "Couldn't retrieve data for station 1432\n"
     ]
    },
    {
     "name": "stderr",
     "output_type": "stream",
     "text": [
      " 67%|████████████████████████████              | 87/130 [00:16<00:08,  5.34it/s]"
     ]
    },
    {
     "name": "stdout",
     "output_type": "stream",
     "text": [
      "Couldn't retrieve data for station 938\n",
      "Couldn't retrieve data for station 3138\n"
     ]
    },
    {
     "name": "stderr",
     "output_type": "stream",
     "text": [
      " 68%|████████████████████████████▊             | 89/130 [00:16<00:09,  4.51it/s]"
     ]
    },
    {
     "name": "stdout",
     "output_type": "stream",
     "text": [
      "Couldn't retrieve data for station 2437\n"
     ]
    },
    {
     "name": "stderr",
     "output_type": "stream",
     "text": [
      " 70%|█████████████████████████████▍            | 91/130 [00:16<00:08,  4.70it/s]"
     ]
    },
    {
     "name": "stdout",
     "output_type": "stream",
     "text": [
      "Couldn't retrieve data for station 239\n",
      "Couldn't retrieve data for station 3122\n"
     ]
    },
    {
     "name": "stderr",
     "output_type": "stream",
     "text": [
      " 72%|██████████████████████████████▎           | 94/130 [00:17<00:07,  5.07it/s]"
     ]
    },
    {
     "name": "stdout",
     "output_type": "stream",
     "text": [
      "Couldn't retrieve data for station 1422\n",
      "Couldn't retrieve data for station 6319\n"
     ]
    },
    {
     "name": "stderr",
     "output_type": "stream",
     "text": [
      " 74%|███████████████████████████████           | 96/130 [00:17<00:05,  5.74it/s]"
     ]
    },
    {
     "name": "stdout",
     "output_type": "stream",
     "text": [
      "Couldn't retrieve data for station 2322\n",
      "Couldn't retrieve data for station 2729\n"
     ]
    },
    {
     "name": "stderr",
     "output_type": "stream",
     "text": [
      " 75%|███████████████████████████████▎          | 97/130 [00:18<00:05,  6.18it/s]"
     ]
    },
    {
     "name": "stdout",
     "output_type": "stream",
     "text": [
      "Couldn't retrieve data for station 6429\n"
     ]
    },
    {
     "name": "stderr",
     "output_type": "stream",
     "text": [
      " 75%|███████████████████████████████▋          | 98/130 [00:18<00:05,  5.60it/s]"
     ]
    },
    {
     "name": "stdout",
     "output_type": "stream",
     "text": [
      "Couldn't retrieve data for station 4829\n"
     ]
    },
    {
     "name": "stderr",
     "output_type": "stream",
     "text": [
      " 77%|███████████████████████████████▌         | 100/130 [00:18<00:05,  5.83it/s]"
     ]
    },
    {
     "name": "stdout",
     "output_type": "stream",
     "text": [
      "Couldn't retrieve data for station 3429\n",
      "Couldn't retrieve data for station 6629\n"
     ]
    },
    {
     "name": "stderr",
     "output_type": "stream",
     "text": [
      " 78%|███████████████████████████████▊         | 101/130 [00:18<00:04,  6.31it/s]"
     ]
    },
    {
     "name": "stdout",
     "output_type": "stream",
     "text": [
      "Couldn't retrieve data for station 936\n"
     ]
    },
    {
     "name": "stderr",
     "output_type": "stream",
     "text": [
      " 79%|████████████████████████████████▍        | 103/130 [00:19<00:04,  6.08it/s]"
     ]
    },
    {
     "name": "stdout",
     "output_type": "stream",
     "text": [
      "Couldn't retrieve data for station 2235\n",
      "Couldn't retrieve data for station 1536\n"
     ]
    },
    {
     "name": "stderr",
     "output_type": "stream",
     "text": [
      " 82%|█████████████████████████████████▍       | 106/130 [00:19<00:04,  5.26it/s]"
     ]
    },
    {
     "name": "stdout",
     "output_type": "stream",
     "text": [
      "Couldn't retrieve data for station 1035\n",
      "Couldn't retrieve data for station 6612\n"
     ]
    },
    {
     "name": "stderr",
     "output_type": "stream",
     "text": [
      " 82%|█████████████████████████████████▋       | 107/130 [00:20<00:04,  4.81it/s]"
     ]
    },
    {
     "name": "stdout",
     "output_type": "stream",
     "text": [
      "Couldn't retrieve data for station 9812\n"
     ]
    },
    {
     "name": "stderr",
     "output_type": "stream",
     "text": [
      " 83%|██████████████████████████████████       | 108/130 [00:20<00:05,  4.39it/s]"
     ]
    },
    {
     "name": "stdout",
     "output_type": "stream",
     "text": [
      "Couldn't retrieve data for station 7212\n"
     ]
    },
    {
     "name": "stderr",
     "output_type": "stream",
     "text": [
      " 84%|██████████████████████████████████▍      | 109/130 [00:20<00:04,  4.43it/s]"
     ]
    },
    {
     "name": "stdout",
     "output_type": "stream",
     "text": [
      "Couldn't retrieve data for station 1013\n"
     ]
    },
    {
     "name": "stderr",
     "output_type": "stream",
     "text": [
      " 85%|██████████████████████████████████▋      | 110/130 [00:20<00:04,  4.48it/s]"
     ]
    },
    {
     "name": "stdout",
     "output_type": "stream",
     "text": [
      "Couldn't retrieve data for station 912\n"
     ]
    },
    {
     "name": "stderr",
     "output_type": "stream",
     "text": [
      " 87%|███████████████████████████████████▋     | 113/130 [00:21<00:03,  4.43it/s]"
     ]
    },
    {
     "name": "stdout",
     "output_type": "stream",
     "text": [
      "Couldn't retrieve data for station 907\n",
      "Couldn't retrieve data for station 9712\n"
     ]
    },
    {
     "name": "stderr",
     "output_type": "stream",
     "text": [
      " 88%|███████████████████████████████████▉     | 114/130 [00:21<00:03,  4.93it/s]"
     ]
    },
    {
     "name": "stdout",
     "output_type": "stream",
     "text": [
      "Couldn't retrieve data for station 3306\n"
     ]
    },
    {
     "name": "stderr",
     "output_type": "stream",
     "text": [
      " 89%|████████████████████████████████████▌    | 116/130 [00:22<00:02,  5.02it/s]"
     ]
    },
    {
     "name": "stdout",
     "output_type": "stream",
     "text": [
      "Couldn't retrieve data for station 8512\n",
      "Couldn't retrieve data for station 2722\n"
     ]
    },
    {
     "name": "stderr",
     "output_type": "stream",
     "text": [
      " 91%|█████████████████████████████████████▏   | 118/130 [00:22<00:02,  5.40it/s]"
     ]
    },
    {
     "name": "stdout",
     "output_type": "stream",
     "text": [
      "Couldn't retrieve data for station 2130\n",
      "Couldn't retrieve data for station 1122\n"
     ]
    },
    {
     "name": "stderr",
     "output_type": "stream",
     "text": [
      " 92%|█████████████████████████████████████▊   | 120/130 [00:22<00:01,  5.89it/s]"
     ]
    },
    {
     "name": "stdout",
     "output_type": "stream",
     "text": [
      "Couldn't retrieve data for station 1922\n",
      "Couldn't retrieve data for station 2122\n"
     ]
    },
    {
     "name": "stderr",
     "output_type": "stream",
     "text": [
      " 94%|██████████████████████████████████████▍  | 122/130 [00:23<00:01,  5.81it/s]"
     ]
    },
    {
     "name": "stdout",
     "output_type": "stream",
     "text": [
      "Couldn't retrieve data for station 3815\n",
      "Couldn't retrieve data for station 1115\n"
     ]
    },
    {
     "name": "stderr",
     "output_type": "stream",
     "text": [
      " 95%|███████████████████████████████████████  | 124/130 [00:23<00:01,  5.45it/s]"
     ]
    },
    {
     "name": "stdout",
     "output_type": "stream",
     "text": [
      "Couldn't retrieve data for station 308\n",
      "Couldn't retrieve data for station 1215\n"
     ]
    },
    {
     "name": "stderr",
     "output_type": "stream",
     "text": [
      " 97%|███████████████████████████████████████▋ | 126/130 [00:23<00:00,  6.30it/s]"
     ]
    },
    {
     "name": "stdout",
     "output_type": "stream",
     "text": [
      "Couldn't retrieve data for station 508\n",
      "Couldn't retrieve data for station 1520\n"
     ]
    },
    {
     "name": "stderr",
     "output_type": "stream",
     "text": [
      " 98%|████████████████████████████████████████▎| 128/130 [00:24<00:00,  6.19it/s]"
     ]
    },
    {
     "name": "stdout",
     "output_type": "stream",
     "text": [
      "Couldn't retrieve data for station 2515\n",
      "Couldn't retrieve data for station 1824\n"
     ]
    },
    {
     "name": "stderr",
     "output_type": "stream",
     "text": [
      "100%|█████████████████████████████████████████| 130/130 [00:24<00:00,  5.32it/s]"
     ]
    },
    {
     "name": "stdout",
     "output_type": "stream",
     "text": [
      "Couldn't retrieve data for station 3424\n",
      "Couldn't retrieve data for station 815\n"
     ]
    },
    {
     "name": "stderr",
     "output_type": "stream",
     "text": [
      "\n"
     ]
    }
   ],
   "source": [
    "# url format: https://cli.fusio.net/cli/climate_data/webdata/dly875.csv\n",
    "for station in tqdm(list(sample_stations['station name'])):\n",
    "    try:\n",
    "        url = f\"https://cli.fusio.net/cli/climate_data/webdata/dly{station}.csv\"\n",
    "        response = requests.get(url)\n",
    "        assert response.status_code == 200\n",
    "        with open(data_dir / f\"weather_data/{station}.csv\", \"wb\") as f:\n",
    "            f.write(response.content)\n",
    "    except:\n",
    "        print(f\"Couldn't retrieve data for station {station}\")"
   ]
  },
  {
   "cell_type": "markdown",
   "id": "4e31c922-078c-4c03-be38-10e580462ba7",
   "metadata": {},
   "source": [
    "It looks like a lot of the stations' data isn't available via these urls - of the 130 expected, only 7 were actually downloaded, or a little over 5%. If that holds true across the whole dataset, 5% of the 1550 stations should give us an expected 83 files, totalling ~160mb, which would be manageable."
   ]
  },
  {
   "cell_type": "code",
   "execution_count": 44,
   "id": "3b9be418-f398-4aa7-8b6e-c1be18603790",
   "metadata": {},
   "outputs": [
    {
     "data": {
      "text/plain": [
       "83.46153846153847"
      ]
     },
     "execution_count": 44,
     "metadata": {},
     "output_type": "execute_result"
    }
   ],
   "source": [
    "1550*(7/130)"
   ]
  },
  {
   "cell_type": "code",
   "execution_count": 42,
   "id": "8ff14ec3-1654-41f1-af31-ed6028b3c9fd",
   "metadata": {},
   "outputs": [
    {
     "ename": "HTTPError",
     "evalue": "HTTP Error 404: Not Found",
     "output_type": "error",
     "traceback": [
      "\u001b[0;31m---------------------------------------------------------------------------\u001b[0m",
      "\u001b[0;31mHTTPError\u001b[0m                                 Traceback (most recent call last)",
      "Cell \u001b[0;32mIn[42], line 1\u001b[0m\n\u001b[0;32m----> 1\u001b[0m \u001b[43mpd\u001b[49m\u001b[38;5;241;43m.\u001b[39;49m\u001b[43mread_csv\u001b[49m\u001b[43m(\u001b[49m\u001b[38;5;124;43mf\u001b[39;49m\u001b[38;5;124;43m\"\u001b[39;49m\u001b[38;5;124;43mhttps://cli.fusio.net/cli/climate_data/webdata/dly6014.csv\u001b[39;49m\u001b[38;5;124;43m\"\u001b[39;49m\u001b[43m)\u001b[49m\n",
      "File \u001b[0;32m~/Documents/college/programming_for_data_analytics/.venv/lib/python3.11/site-packages/pandas/io/parsers/readers.py:1026\u001b[0m, in \u001b[0;36mread_csv\u001b[0;34m(filepath_or_buffer, sep, delimiter, header, names, index_col, usecols, dtype, engine, converters, true_values, false_values, skipinitialspace, skiprows, skipfooter, nrows, na_values, keep_default_na, na_filter, verbose, skip_blank_lines, parse_dates, infer_datetime_format, keep_date_col, date_parser, date_format, dayfirst, cache_dates, iterator, chunksize, compression, thousands, decimal, lineterminator, quotechar, quoting, doublequote, escapechar, comment, encoding, encoding_errors, dialect, on_bad_lines, delim_whitespace, low_memory, memory_map, float_precision, storage_options, dtype_backend)\u001b[0m\n\u001b[1;32m   1013\u001b[0m kwds_defaults \u001b[38;5;241m=\u001b[39m _refine_defaults_read(\n\u001b[1;32m   1014\u001b[0m     dialect,\n\u001b[1;32m   1015\u001b[0m     delimiter,\n\u001b[0;32m   (...)\u001b[0m\n\u001b[1;32m   1022\u001b[0m     dtype_backend\u001b[38;5;241m=\u001b[39mdtype_backend,\n\u001b[1;32m   1023\u001b[0m )\n\u001b[1;32m   1024\u001b[0m kwds\u001b[38;5;241m.\u001b[39mupdate(kwds_defaults)\n\u001b[0;32m-> 1026\u001b[0m \u001b[38;5;28;01mreturn\u001b[39;00m \u001b[43m_read\u001b[49m\u001b[43m(\u001b[49m\u001b[43mfilepath_or_buffer\u001b[49m\u001b[43m,\u001b[49m\u001b[43m \u001b[49m\u001b[43mkwds\u001b[49m\u001b[43m)\u001b[49m\n",
      "File \u001b[0;32m~/Documents/college/programming_for_data_analytics/.venv/lib/python3.11/site-packages/pandas/io/parsers/readers.py:620\u001b[0m, in \u001b[0;36m_read\u001b[0;34m(filepath_or_buffer, kwds)\u001b[0m\n\u001b[1;32m    617\u001b[0m _validate_names(kwds\u001b[38;5;241m.\u001b[39mget(\u001b[38;5;124m\"\u001b[39m\u001b[38;5;124mnames\u001b[39m\u001b[38;5;124m\"\u001b[39m, \u001b[38;5;28;01mNone\u001b[39;00m))\n\u001b[1;32m    619\u001b[0m \u001b[38;5;66;03m# Create the parser.\u001b[39;00m\n\u001b[0;32m--> 620\u001b[0m parser \u001b[38;5;241m=\u001b[39m \u001b[43mTextFileReader\u001b[49m\u001b[43m(\u001b[49m\u001b[43mfilepath_or_buffer\u001b[49m\u001b[43m,\u001b[49m\u001b[43m \u001b[49m\u001b[38;5;241;43m*\u001b[39;49m\u001b[38;5;241;43m*\u001b[39;49m\u001b[43mkwds\u001b[49m\u001b[43m)\u001b[49m\n\u001b[1;32m    622\u001b[0m \u001b[38;5;28;01mif\u001b[39;00m chunksize \u001b[38;5;129;01mor\u001b[39;00m iterator:\n\u001b[1;32m    623\u001b[0m     \u001b[38;5;28;01mreturn\u001b[39;00m parser\n",
      "File \u001b[0;32m~/Documents/college/programming_for_data_analytics/.venv/lib/python3.11/site-packages/pandas/io/parsers/readers.py:1620\u001b[0m, in \u001b[0;36mTextFileReader.__init__\u001b[0;34m(self, f, engine, **kwds)\u001b[0m\n\u001b[1;32m   1617\u001b[0m     \u001b[38;5;28mself\u001b[39m\u001b[38;5;241m.\u001b[39moptions[\u001b[38;5;124m\"\u001b[39m\u001b[38;5;124mhas_index_names\u001b[39m\u001b[38;5;124m\"\u001b[39m] \u001b[38;5;241m=\u001b[39m kwds[\u001b[38;5;124m\"\u001b[39m\u001b[38;5;124mhas_index_names\u001b[39m\u001b[38;5;124m\"\u001b[39m]\n\u001b[1;32m   1619\u001b[0m \u001b[38;5;28mself\u001b[39m\u001b[38;5;241m.\u001b[39mhandles: IOHandles \u001b[38;5;241m|\u001b[39m \u001b[38;5;28;01mNone\u001b[39;00m \u001b[38;5;241m=\u001b[39m \u001b[38;5;28;01mNone\u001b[39;00m\n\u001b[0;32m-> 1620\u001b[0m \u001b[38;5;28mself\u001b[39m\u001b[38;5;241m.\u001b[39m_engine \u001b[38;5;241m=\u001b[39m \u001b[38;5;28;43mself\u001b[39;49m\u001b[38;5;241;43m.\u001b[39;49m\u001b[43m_make_engine\u001b[49m\u001b[43m(\u001b[49m\u001b[43mf\u001b[49m\u001b[43m,\u001b[49m\u001b[43m \u001b[49m\u001b[38;5;28;43mself\u001b[39;49m\u001b[38;5;241;43m.\u001b[39;49m\u001b[43mengine\u001b[49m\u001b[43m)\u001b[49m\n",
      "File \u001b[0;32m~/Documents/college/programming_for_data_analytics/.venv/lib/python3.11/site-packages/pandas/io/parsers/readers.py:1880\u001b[0m, in \u001b[0;36mTextFileReader._make_engine\u001b[0;34m(self, f, engine)\u001b[0m\n\u001b[1;32m   1878\u001b[0m     \u001b[38;5;28;01mif\u001b[39;00m \u001b[38;5;124m\"\u001b[39m\u001b[38;5;124mb\u001b[39m\u001b[38;5;124m\"\u001b[39m \u001b[38;5;129;01mnot\u001b[39;00m \u001b[38;5;129;01min\u001b[39;00m mode:\n\u001b[1;32m   1879\u001b[0m         mode \u001b[38;5;241m+\u001b[39m\u001b[38;5;241m=\u001b[39m \u001b[38;5;124m\"\u001b[39m\u001b[38;5;124mb\u001b[39m\u001b[38;5;124m\"\u001b[39m\n\u001b[0;32m-> 1880\u001b[0m \u001b[38;5;28mself\u001b[39m\u001b[38;5;241m.\u001b[39mhandles \u001b[38;5;241m=\u001b[39m \u001b[43mget_handle\u001b[49m\u001b[43m(\u001b[49m\n\u001b[1;32m   1881\u001b[0m \u001b[43m    \u001b[49m\u001b[43mf\u001b[49m\u001b[43m,\u001b[49m\n\u001b[1;32m   1882\u001b[0m \u001b[43m    \u001b[49m\u001b[43mmode\u001b[49m\u001b[43m,\u001b[49m\n\u001b[1;32m   1883\u001b[0m \u001b[43m    \u001b[49m\u001b[43mencoding\u001b[49m\u001b[38;5;241;43m=\u001b[39;49m\u001b[38;5;28;43mself\u001b[39;49m\u001b[38;5;241;43m.\u001b[39;49m\u001b[43moptions\u001b[49m\u001b[38;5;241;43m.\u001b[39;49m\u001b[43mget\u001b[49m\u001b[43m(\u001b[49m\u001b[38;5;124;43m\"\u001b[39;49m\u001b[38;5;124;43mencoding\u001b[39;49m\u001b[38;5;124;43m\"\u001b[39;49m\u001b[43m,\u001b[49m\u001b[43m \u001b[49m\u001b[38;5;28;43;01mNone\u001b[39;49;00m\u001b[43m)\u001b[49m\u001b[43m,\u001b[49m\n\u001b[1;32m   1884\u001b[0m \u001b[43m    \u001b[49m\u001b[43mcompression\u001b[49m\u001b[38;5;241;43m=\u001b[39;49m\u001b[38;5;28;43mself\u001b[39;49m\u001b[38;5;241;43m.\u001b[39;49m\u001b[43moptions\u001b[49m\u001b[38;5;241;43m.\u001b[39;49m\u001b[43mget\u001b[49m\u001b[43m(\u001b[49m\u001b[38;5;124;43m\"\u001b[39;49m\u001b[38;5;124;43mcompression\u001b[39;49m\u001b[38;5;124;43m\"\u001b[39;49m\u001b[43m,\u001b[49m\u001b[43m \u001b[49m\u001b[38;5;28;43;01mNone\u001b[39;49;00m\u001b[43m)\u001b[49m\u001b[43m,\u001b[49m\n\u001b[1;32m   1885\u001b[0m \u001b[43m    \u001b[49m\u001b[43mmemory_map\u001b[49m\u001b[38;5;241;43m=\u001b[39;49m\u001b[38;5;28;43mself\u001b[39;49m\u001b[38;5;241;43m.\u001b[39;49m\u001b[43moptions\u001b[49m\u001b[38;5;241;43m.\u001b[39;49m\u001b[43mget\u001b[49m\u001b[43m(\u001b[49m\u001b[38;5;124;43m\"\u001b[39;49m\u001b[38;5;124;43mmemory_map\u001b[39;49m\u001b[38;5;124;43m\"\u001b[39;49m\u001b[43m,\u001b[49m\u001b[43m \u001b[49m\u001b[38;5;28;43;01mFalse\u001b[39;49;00m\u001b[43m)\u001b[49m\u001b[43m,\u001b[49m\n\u001b[1;32m   1886\u001b[0m \u001b[43m    \u001b[49m\u001b[43mis_text\u001b[49m\u001b[38;5;241;43m=\u001b[39;49m\u001b[43mis_text\u001b[49m\u001b[43m,\u001b[49m\n\u001b[1;32m   1887\u001b[0m \u001b[43m    \u001b[49m\u001b[43merrors\u001b[49m\u001b[38;5;241;43m=\u001b[39;49m\u001b[38;5;28;43mself\u001b[39;49m\u001b[38;5;241;43m.\u001b[39;49m\u001b[43moptions\u001b[49m\u001b[38;5;241;43m.\u001b[39;49m\u001b[43mget\u001b[49m\u001b[43m(\u001b[49m\u001b[38;5;124;43m\"\u001b[39;49m\u001b[38;5;124;43mencoding_errors\u001b[39;49m\u001b[38;5;124;43m\"\u001b[39;49m\u001b[43m,\u001b[49m\u001b[43m \u001b[49m\u001b[38;5;124;43m\"\u001b[39;49m\u001b[38;5;124;43mstrict\u001b[39;49m\u001b[38;5;124;43m\"\u001b[39;49m\u001b[43m)\u001b[49m\u001b[43m,\u001b[49m\n\u001b[1;32m   1888\u001b[0m \u001b[43m    \u001b[49m\u001b[43mstorage_options\u001b[49m\u001b[38;5;241;43m=\u001b[39;49m\u001b[38;5;28;43mself\u001b[39;49m\u001b[38;5;241;43m.\u001b[39;49m\u001b[43moptions\u001b[49m\u001b[38;5;241;43m.\u001b[39;49m\u001b[43mget\u001b[49m\u001b[43m(\u001b[49m\u001b[38;5;124;43m\"\u001b[39;49m\u001b[38;5;124;43mstorage_options\u001b[39;49m\u001b[38;5;124;43m\"\u001b[39;49m\u001b[43m,\u001b[49m\u001b[43m \u001b[49m\u001b[38;5;28;43;01mNone\u001b[39;49;00m\u001b[43m)\u001b[49m\u001b[43m,\u001b[49m\n\u001b[1;32m   1889\u001b[0m \u001b[43m\u001b[49m\u001b[43m)\u001b[49m\n\u001b[1;32m   1890\u001b[0m \u001b[38;5;28;01massert\u001b[39;00m \u001b[38;5;28mself\u001b[39m\u001b[38;5;241m.\u001b[39mhandles \u001b[38;5;129;01mis\u001b[39;00m \u001b[38;5;129;01mnot\u001b[39;00m \u001b[38;5;28;01mNone\u001b[39;00m\n\u001b[1;32m   1891\u001b[0m f \u001b[38;5;241m=\u001b[39m \u001b[38;5;28mself\u001b[39m\u001b[38;5;241m.\u001b[39mhandles\u001b[38;5;241m.\u001b[39mhandle\n",
      "File \u001b[0;32m~/Documents/college/programming_for_data_analytics/.venv/lib/python3.11/site-packages/pandas/io/common.py:728\u001b[0m, in \u001b[0;36mget_handle\u001b[0;34m(path_or_buf, mode, encoding, compression, memory_map, is_text, errors, storage_options)\u001b[0m\n\u001b[1;32m    725\u001b[0m     codecs\u001b[38;5;241m.\u001b[39mlookup_error(errors)\n\u001b[1;32m    727\u001b[0m \u001b[38;5;66;03m# open URLs\u001b[39;00m\n\u001b[0;32m--> 728\u001b[0m ioargs \u001b[38;5;241m=\u001b[39m \u001b[43m_get_filepath_or_buffer\u001b[49m\u001b[43m(\u001b[49m\n\u001b[1;32m    729\u001b[0m \u001b[43m    \u001b[49m\u001b[43mpath_or_buf\u001b[49m\u001b[43m,\u001b[49m\n\u001b[1;32m    730\u001b[0m \u001b[43m    \u001b[49m\u001b[43mencoding\u001b[49m\u001b[38;5;241;43m=\u001b[39;49m\u001b[43mencoding\u001b[49m\u001b[43m,\u001b[49m\n\u001b[1;32m    731\u001b[0m \u001b[43m    \u001b[49m\u001b[43mcompression\u001b[49m\u001b[38;5;241;43m=\u001b[39;49m\u001b[43mcompression\u001b[49m\u001b[43m,\u001b[49m\n\u001b[1;32m    732\u001b[0m \u001b[43m    \u001b[49m\u001b[43mmode\u001b[49m\u001b[38;5;241;43m=\u001b[39;49m\u001b[43mmode\u001b[49m\u001b[43m,\u001b[49m\n\u001b[1;32m    733\u001b[0m \u001b[43m    \u001b[49m\u001b[43mstorage_options\u001b[49m\u001b[38;5;241;43m=\u001b[39;49m\u001b[43mstorage_options\u001b[49m\u001b[43m,\u001b[49m\n\u001b[1;32m    734\u001b[0m \u001b[43m\u001b[49m\u001b[43m)\u001b[49m\n\u001b[1;32m    736\u001b[0m handle \u001b[38;5;241m=\u001b[39m ioargs\u001b[38;5;241m.\u001b[39mfilepath_or_buffer\n\u001b[1;32m    737\u001b[0m handles: \u001b[38;5;28mlist\u001b[39m[BaseBuffer]\n",
      "File \u001b[0;32m~/Documents/college/programming_for_data_analytics/.venv/lib/python3.11/site-packages/pandas/io/common.py:384\u001b[0m, in \u001b[0;36m_get_filepath_or_buffer\u001b[0;34m(filepath_or_buffer, encoding, compression, mode, storage_options)\u001b[0m\n\u001b[1;32m    382\u001b[0m \u001b[38;5;66;03m# assuming storage_options is to be interpreted as headers\u001b[39;00m\n\u001b[1;32m    383\u001b[0m req_info \u001b[38;5;241m=\u001b[39m urllib\u001b[38;5;241m.\u001b[39mrequest\u001b[38;5;241m.\u001b[39mRequest(filepath_or_buffer, headers\u001b[38;5;241m=\u001b[39mstorage_options)\n\u001b[0;32m--> 384\u001b[0m \u001b[38;5;28;01mwith\u001b[39;00m \u001b[43murlopen\u001b[49m\u001b[43m(\u001b[49m\u001b[43mreq_info\u001b[49m\u001b[43m)\u001b[49m \u001b[38;5;28;01mas\u001b[39;00m req:\n\u001b[1;32m    385\u001b[0m     content_encoding \u001b[38;5;241m=\u001b[39m req\u001b[38;5;241m.\u001b[39mheaders\u001b[38;5;241m.\u001b[39mget(\u001b[38;5;124m\"\u001b[39m\u001b[38;5;124mContent-Encoding\u001b[39m\u001b[38;5;124m\"\u001b[39m, \u001b[38;5;28;01mNone\u001b[39;00m)\n\u001b[1;32m    386\u001b[0m     \u001b[38;5;28;01mif\u001b[39;00m content_encoding \u001b[38;5;241m==\u001b[39m \u001b[38;5;124m\"\u001b[39m\u001b[38;5;124mgzip\u001b[39m\u001b[38;5;124m\"\u001b[39m:\n\u001b[1;32m    387\u001b[0m         \u001b[38;5;66;03m# Override compression based on Content-Encoding header\u001b[39;00m\n",
      "File \u001b[0;32m~/Documents/college/programming_for_data_analytics/.venv/lib/python3.11/site-packages/pandas/io/common.py:289\u001b[0m, in \u001b[0;36murlopen\u001b[0;34m(*args, **kwargs)\u001b[0m\n\u001b[1;32m    283\u001b[0m \u001b[38;5;250m\u001b[39m\u001b[38;5;124;03m\"\"\"\u001b[39;00m\n\u001b[1;32m    284\u001b[0m \u001b[38;5;124;03mLazy-import wrapper for stdlib urlopen, as that imports a big chunk of\u001b[39;00m\n\u001b[1;32m    285\u001b[0m \u001b[38;5;124;03mthe stdlib.\u001b[39;00m\n\u001b[1;32m    286\u001b[0m \u001b[38;5;124;03m\"\"\"\u001b[39;00m\n\u001b[1;32m    287\u001b[0m \u001b[38;5;28;01mimport\u001b[39;00m \u001b[38;5;21;01murllib\u001b[39;00m\u001b[38;5;21;01m.\u001b[39;00m\u001b[38;5;21;01mrequest\u001b[39;00m\n\u001b[0;32m--> 289\u001b[0m \u001b[38;5;28;01mreturn\u001b[39;00m \u001b[43murllib\u001b[49m\u001b[38;5;241;43m.\u001b[39;49m\u001b[43mrequest\u001b[49m\u001b[38;5;241;43m.\u001b[39;49m\u001b[43murlopen\u001b[49m\u001b[43m(\u001b[49m\u001b[38;5;241;43m*\u001b[39;49m\u001b[43margs\u001b[49m\u001b[43m,\u001b[49m\u001b[43m \u001b[49m\u001b[38;5;241;43m*\u001b[39;49m\u001b[38;5;241;43m*\u001b[39;49m\u001b[43mkwargs\u001b[49m\u001b[43m)\u001b[49m\n",
      "File \u001b[0;32m~/anaconda3/lib/python3.11/urllib/request.py:216\u001b[0m, in \u001b[0;36murlopen\u001b[0;34m(url, data, timeout, cafile, capath, cadefault, context)\u001b[0m\n\u001b[1;32m    214\u001b[0m \u001b[38;5;28;01melse\u001b[39;00m:\n\u001b[1;32m    215\u001b[0m     opener \u001b[38;5;241m=\u001b[39m _opener\n\u001b[0;32m--> 216\u001b[0m \u001b[38;5;28;01mreturn\u001b[39;00m \u001b[43mopener\u001b[49m\u001b[38;5;241;43m.\u001b[39;49m\u001b[43mopen\u001b[49m\u001b[43m(\u001b[49m\u001b[43murl\u001b[49m\u001b[43m,\u001b[49m\u001b[43m \u001b[49m\u001b[43mdata\u001b[49m\u001b[43m,\u001b[49m\u001b[43m \u001b[49m\u001b[43mtimeout\u001b[49m\u001b[43m)\u001b[49m\n",
      "File \u001b[0;32m~/anaconda3/lib/python3.11/urllib/request.py:525\u001b[0m, in \u001b[0;36mOpenerDirector.open\u001b[0;34m(self, fullurl, data, timeout)\u001b[0m\n\u001b[1;32m    523\u001b[0m \u001b[38;5;28;01mfor\u001b[39;00m processor \u001b[38;5;129;01min\u001b[39;00m \u001b[38;5;28mself\u001b[39m\u001b[38;5;241m.\u001b[39mprocess_response\u001b[38;5;241m.\u001b[39mget(protocol, []):\n\u001b[1;32m    524\u001b[0m     meth \u001b[38;5;241m=\u001b[39m \u001b[38;5;28mgetattr\u001b[39m(processor, meth_name)\n\u001b[0;32m--> 525\u001b[0m     response \u001b[38;5;241m=\u001b[39m \u001b[43mmeth\u001b[49m\u001b[43m(\u001b[49m\u001b[43mreq\u001b[49m\u001b[43m,\u001b[49m\u001b[43m \u001b[49m\u001b[43mresponse\u001b[49m\u001b[43m)\u001b[49m\n\u001b[1;32m    527\u001b[0m \u001b[38;5;28;01mreturn\u001b[39;00m response\n",
      "File \u001b[0;32m~/anaconda3/lib/python3.11/urllib/request.py:634\u001b[0m, in \u001b[0;36mHTTPErrorProcessor.http_response\u001b[0;34m(self, request, response)\u001b[0m\n\u001b[1;32m    631\u001b[0m \u001b[38;5;66;03m# According to RFC 2616, \"2xx\" code indicates that the client's\u001b[39;00m\n\u001b[1;32m    632\u001b[0m \u001b[38;5;66;03m# request was successfully received, understood, and accepted.\u001b[39;00m\n\u001b[1;32m    633\u001b[0m \u001b[38;5;28;01mif\u001b[39;00m \u001b[38;5;129;01mnot\u001b[39;00m (\u001b[38;5;241m200\u001b[39m \u001b[38;5;241m<\u001b[39m\u001b[38;5;241m=\u001b[39m code \u001b[38;5;241m<\u001b[39m \u001b[38;5;241m300\u001b[39m):\n\u001b[0;32m--> 634\u001b[0m     response \u001b[38;5;241m=\u001b[39m \u001b[38;5;28;43mself\u001b[39;49m\u001b[38;5;241;43m.\u001b[39;49m\u001b[43mparent\u001b[49m\u001b[38;5;241;43m.\u001b[39;49m\u001b[43merror\u001b[49m\u001b[43m(\u001b[49m\n\u001b[1;32m    635\u001b[0m \u001b[43m        \u001b[49m\u001b[38;5;124;43m'\u001b[39;49m\u001b[38;5;124;43mhttp\u001b[39;49m\u001b[38;5;124;43m'\u001b[39;49m\u001b[43m,\u001b[49m\u001b[43m \u001b[49m\u001b[43mrequest\u001b[49m\u001b[43m,\u001b[49m\u001b[43m \u001b[49m\u001b[43mresponse\u001b[49m\u001b[43m,\u001b[49m\u001b[43m \u001b[49m\u001b[43mcode\u001b[49m\u001b[43m,\u001b[49m\u001b[43m \u001b[49m\u001b[43mmsg\u001b[49m\u001b[43m,\u001b[49m\u001b[43m \u001b[49m\u001b[43mhdrs\u001b[49m\u001b[43m)\u001b[49m\n\u001b[1;32m    637\u001b[0m \u001b[38;5;28;01mreturn\u001b[39;00m response\n",
      "File \u001b[0;32m~/anaconda3/lib/python3.11/urllib/request.py:563\u001b[0m, in \u001b[0;36mOpenerDirector.error\u001b[0;34m(self, proto, *args)\u001b[0m\n\u001b[1;32m    561\u001b[0m \u001b[38;5;28;01mif\u001b[39;00m http_err:\n\u001b[1;32m    562\u001b[0m     args \u001b[38;5;241m=\u001b[39m (\u001b[38;5;28mdict\u001b[39m, \u001b[38;5;124m'\u001b[39m\u001b[38;5;124mdefault\u001b[39m\u001b[38;5;124m'\u001b[39m, \u001b[38;5;124m'\u001b[39m\u001b[38;5;124mhttp_error_default\u001b[39m\u001b[38;5;124m'\u001b[39m) \u001b[38;5;241m+\u001b[39m orig_args\n\u001b[0;32m--> 563\u001b[0m     \u001b[38;5;28;01mreturn\u001b[39;00m \u001b[38;5;28;43mself\u001b[39;49m\u001b[38;5;241;43m.\u001b[39;49m\u001b[43m_call_chain\u001b[49m\u001b[43m(\u001b[49m\u001b[38;5;241;43m*\u001b[39;49m\u001b[43margs\u001b[49m\u001b[43m)\u001b[49m\n",
      "File \u001b[0;32m~/anaconda3/lib/python3.11/urllib/request.py:496\u001b[0m, in \u001b[0;36mOpenerDirector._call_chain\u001b[0;34m(self, chain, kind, meth_name, *args)\u001b[0m\n\u001b[1;32m    494\u001b[0m \u001b[38;5;28;01mfor\u001b[39;00m handler \u001b[38;5;129;01min\u001b[39;00m handlers:\n\u001b[1;32m    495\u001b[0m     func \u001b[38;5;241m=\u001b[39m \u001b[38;5;28mgetattr\u001b[39m(handler, meth_name)\n\u001b[0;32m--> 496\u001b[0m     result \u001b[38;5;241m=\u001b[39m \u001b[43mfunc\u001b[49m\u001b[43m(\u001b[49m\u001b[38;5;241;43m*\u001b[39;49m\u001b[43margs\u001b[49m\u001b[43m)\u001b[49m\n\u001b[1;32m    497\u001b[0m     \u001b[38;5;28;01mif\u001b[39;00m result \u001b[38;5;129;01mis\u001b[39;00m \u001b[38;5;129;01mnot\u001b[39;00m \u001b[38;5;28;01mNone\u001b[39;00m:\n\u001b[1;32m    498\u001b[0m         \u001b[38;5;28;01mreturn\u001b[39;00m result\n",
      "File \u001b[0;32m~/anaconda3/lib/python3.11/urllib/request.py:643\u001b[0m, in \u001b[0;36mHTTPDefaultErrorHandler.http_error_default\u001b[0;34m(self, req, fp, code, msg, hdrs)\u001b[0m\n\u001b[1;32m    642\u001b[0m \u001b[38;5;28;01mdef\u001b[39;00m \u001b[38;5;21mhttp_error_default\u001b[39m(\u001b[38;5;28mself\u001b[39m, req, fp, code, msg, hdrs):\n\u001b[0;32m--> 643\u001b[0m     \u001b[38;5;28;01mraise\u001b[39;00m HTTPError(req\u001b[38;5;241m.\u001b[39mfull_url, code, msg, hdrs, fp)\n",
      "\u001b[0;31mHTTPError\u001b[0m: HTTP Error 404: Not Found"
     ]
    }
   ],
   "source": [
    "# this station gives a 404 Not Found status code - the file doesn't exist at this url\n",
    "pd.read_csv(f\"https://cli.fusio.net/cli/climate_data/webdata/dly6014.csv\")"
   ]
  },
  {
   "cell_type": "code",
   "execution_count": 45,
   "id": "102e29ed-9f60-4725-81b8-c516bc7d1d6f",
   "metadata": {},
   "outputs": [
    {
     "name": "stderr",
     "output_type": "stream",
     "text": [
      "100%|███████████████████████████████████████| 1550/1550 [03:15<00:00,  7.94it/s]"
     ]
    },
    {
     "name": "stdout",
     "output_type": "stream",
     "text": [
      "Downloaded 38 files\n"
     ]
    },
    {
     "name": "stderr",
     "output_type": "stream",
     "text": [
      "\n"
     ]
    }
   ],
   "source": [
    "files_downloaded = 0\n",
    "for station in tqdm(open_stations):\n",
    "    try:\n",
    "        url = f\"https://cli.fusio.net/cli/climate_data/webdata/dly{station}.csv\"\n",
    "        response = requests.get(url)\n",
    "        assert response.status_code == 200\n",
    "        with open(data_dir / f\"weather_data/{station}.csv\", \"wb\") as f:\n",
    "            f.write(response.content)\n",
    "        files_downloaded += 1\n",
    "    except:\n",
    "        pass\n",
    "print(f'Downloaded {files_downloaded} files')"
   ]
  },
  {
   "cell_type": "markdown",
   "id": "0e00f267-a494-49f4-ad37-c2186ad62fee",
   "metadata": {},
   "source": [
    "We only got 38 files in the end, we may have gotten lucky with the sample that had a hit rate of 5%."
   ]
  },
  {
   "cell_type": "markdown",
   "id": "5695d155-7ff9-4e3f-b7e5-033c511c83bd",
   "metadata": {},
   "source": [
    "Now that we have all our files downloaded, we need to read them into pandas so we can analyse them.\n",
    "Each file has a header that we need to skip, however the number of rows changes from file to file. The row we want always starts with \"date\", so we can use this.\n",
    "\n",
    "We also need to keep track of the station id so we can match it with the station information we have above."
   ]
  },
  {
   "cell_type": "code",
   "execution_count": 49,
   "id": "59a54ef8-41d9-49e5-bcbf-ce1b84e27a38",
   "metadata": {},
   "outputs": [
    {
     "name": "stdout",
     "output_type": "stream",
     "text": [
      "9 date,ind,rain\n",
      "\n",
      "13 date,ind,rain,ind,maxt,ind,mint,gmin,soil\n",
      "\n"
     ]
    }
   ],
   "source": [
    "# https://stackoverflow.com/questions/68369338/how-to-read-a-csv-in-python-using-pandas-read-csv-after-a-certain-line-having-s\n",
    "\n",
    "from io import StringIO\n",
    "import copy\n",
    "\n",
    "# need to skip 8\n",
    "with open('data/weather_data/405.csv', 'r') as f:\n",
    "    file1 = f.read()\n",
    "\n",
    "# need to skip 12\n",
    "with open('data/weather_data/5911.csv', 'r') as f:\n",
    "    file2 = f.read()\n",
    "\n",
    "def read_csv_after_line(file, str_to_find):\n",
    "    iter_file = copy.copy(file)\n",
    "    for i,line in enumerate(iter_file):\n",
    "        if str_to_find.lower() in line.lower():\n",
    "            print(i,line)\n",
    "            return pd.read_csv(file, skiprows=i)\n",
    "\n",
    "df_1 = read_csv_after_line(StringIO(file1),'date,ind')\n",
    "\n",
    "df_2 = read_csv_after_line(StringIO(file2),'date,ind')\n"
   ]
  },
  {
   "cell_type": "code",
   "execution_count": 53,
   "id": "58ebd783-a5df-46c4-aa1d-9a5752801a72",
   "metadata": {},
   "outputs": [
    {
     "data": {
      "text/html": [
       "<div>\n",
       "<style scoped>\n",
       "    .dataframe tbody tr th:only-of-type {\n",
       "        vertical-align: middle;\n",
       "    }\n",
       "\n",
       "    .dataframe tbody tr th {\n",
       "        vertical-align: top;\n",
       "    }\n",
       "\n",
       "    .dataframe thead th {\n",
       "        text-align: right;\n",
       "    }\n",
       "</style>\n",
       "<table border=\"1\" class=\"dataframe\">\n",
       "  <thead>\n",
       "    <tr style=\"text-align: right;\">\n",
       "      <th></th>\n",
       "      <th>date</th>\n",
       "      <th>ind</th>\n",
       "      <th>rain</th>\n",
       "    </tr>\n",
       "  </thead>\n",
       "  <tbody>\n",
       "    <tr>\n",
       "      <th>24125</th>\n",
       "      <td>26-jun-2016</td>\n",
       "      <td>0</td>\n",
       "      <td>0.0</td>\n",
       "    </tr>\n",
       "    <tr>\n",
       "      <th>24126</th>\n",
       "      <td>27-jun-2016</td>\n",
       "      <td>0</td>\n",
       "      <td>1.5</td>\n",
       "    </tr>\n",
       "    <tr>\n",
       "      <th>24127</th>\n",
       "      <td>28-jun-2016</td>\n",
       "      <td>0</td>\n",
       "      <td>3.8</td>\n",
       "    </tr>\n",
       "    <tr>\n",
       "      <th>24128</th>\n",
       "      <td>29-jun-2016</td>\n",
       "      <td>0</td>\n",
       "      <td>2.9</td>\n",
       "    </tr>\n",
       "    <tr>\n",
       "      <th>24129</th>\n",
       "      <td>30-jun-2016</td>\n",
       "      <td>0</td>\n",
       "      <td>3.0</td>\n",
       "    </tr>\n",
       "  </tbody>\n",
       "</table>\n",
       "</div>"
      ],
      "text/plain": [
       "              date  ind  rain\n",
       "24125  26-jun-2016    0   0.0\n",
       "24126  27-jun-2016    0   1.5\n",
       "24127  28-jun-2016    0   3.8\n",
       "24128  29-jun-2016    0   2.9\n",
       "24129  30-jun-2016    0   3.0"
      ]
     },
     "execution_count": 53,
     "metadata": {},
     "output_type": "execute_result"
    }
   ],
   "source": [
    "df_1.tail()"
   ]
  },
  {
   "cell_type": "code",
   "execution_count": 52,
   "id": "1bfa44ab-08db-4ab4-8812-1910e7a6ed22",
   "metadata": {},
   "outputs": [
    {
     "data": {
      "text/html": [
       "<div>\n",
       "<style scoped>\n",
       "    .dataframe tbody tr th:only-of-type {\n",
       "        vertical-align: middle;\n",
       "    }\n",
       "\n",
       "    .dataframe tbody tr th {\n",
       "        vertical-align: top;\n",
       "    }\n",
       "\n",
       "    .dataframe thead th {\n",
       "        text-align: right;\n",
       "    }\n",
       "</style>\n",
       "<table border=\"1\" class=\"dataframe\">\n",
       "  <thead>\n",
       "    <tr style=\"text-align: right;\">\n",
       "      <th></th>\n",
       "      <th>date</th>\n",
       "      <th>ind</th>\n",
       "      <th>rain</th>\n",
       "      <th>ind.1</th>\n",
       "      <th>maxt</th>\n",
       "      <th>ind.2</th>\n",
       "      <th>mint</th>\n",
       "      <th>gmin</th>\n",
       "      <th>soil</th>\n",
       "    </tr>\n",
       "  </thead>\n",
       "  <tbody>\n",
       "    <tr>\n",
       "      <th>9001</th>\n",
       "      <td>24-feb-2019</td>\n",
       "      <td>0</td>\n",
       "      <td>0.0</td>\n",
       "      <td>0</td>\n",
       "      <td>11.0</td>\n",
       "      <td>0</td>\n",
       "      <td>8.0</td>\n",
       "      <td></td>\n",
       "      <td></td>\n",
       "    </tr>\n",
       "    <tr>\n",
       "      <th>9002</th>\n",
       "      <td>25-feb-2019</td>\n",
       "      <td>0</td>\n",
       "      <td>0.0</td>\n",
       "      <td>0</td>\n",
       "      <td>14.6</td>\n",
       "      <td>0</td>\n",
       "      <td>8.4</td>\n",
       "      <td></td>\n",
       "      <td></td>\n",
       "    </tr>\n",
       "    <tr>\n",
       "      <th>9003</th>\n",
       "      <td>26-feb-2019</td>\n",
       "      <td>0</td>\n",
       "      <td>0.0</td>\n",
       "      <td>0</td>\n",
       "      <td>14.4</td>\n",
       "      <td>0</td>\n",
       "      <td>4.8</td>\n",
       "      <td></td>\n",
       "      <td></td>\n",
       "    </tr>\n",
       "    <tr>\n",
       "      <th>9004</th>\n",
       "      <td>27-feb-2019</td>\n",
       "      <td>0</td>\n",
       "      <td>0.0</td>\n",
       "      <td>0</td>\n",
       "      <td>14.4</td>\n",
       "      <td>0</td>\n",
       "      <td>4.0</td>\n",
       "      <td></td>\n",
       "      <td></td>\n",
       "    </tr>\n",
       "    <tr>\n",
       "      <th>9005</th>\n",
       "      <td>28-feb-2019</td>\n",
       "      <td>0</td>\n",
       "      <td>0.0</td>\n",
       "      <td>0</td>\n",
       "      <td>13.5</td>\n",
       "      <td>0</td>\n",
       "      <td>6.0</td>\n",
       "      <td></td>\n",
       "      <td></td>\n",
       "    </tr>\n",
       "  </tbody>\n",
       "</table>\n",
       "</div>"
      ],
      "text/plain": [
       "             date  ind  rain ind.1  maxt ind.2 mint gmin soil\n",
       "9001  24-feb-2019    0   0.0     0  11.0     0  8.0          \n",
       "9002  25-feb-2019    0   0.0     0  14.6     0  8.4          \n",
       "9003  26-feb-2019    0   0.0     0  14.4     0  4.8          \n",
       "9004  27-feb-2019    0   0.0     0  14.4     0  4.0          \n",
       "9005  28-feb-2019    0   0.0     0  13.5     0  6.0          "
      ]
     },
     "execution_count": 52,
     "metadata": {},
     "output_type": "execute_result"
    }
   ],
   "source": [
    "df_2.tail()"
   ]
  },
  {
   "cell_type": "code",
   "execution_count": 57,
   "id": "92b1c65c-f762-4c7b-bdbd-e26bdccc95ff",
   "metadata": {},
   "outputs": [
    {
     "name": "stdout",
     "output_type": "stream",
     "text": [
      "9 date,ind,rain\n",
      "\n",
      "13 date,ind,rain,ind,maxt,ind,mint,gmin,soil\n",
      "\n",
      "9 date,ind,rain\n",
      "\n",
      "9 date,ind,rain\n",
      "\n",
      "9 date,ind,rain\n",
      "\n",
      "13 date,ind,rain,ind,maxt,ind,mint,gmin,soil\n",
      "\n",
      "9 date,ind,rain\n",
      "\n",
      "13 date,ind,rain,ind,maxt,ind,mint,gmin,soil\n",
      "\n",
      "9 date,ind,rain\n",
      "\n",
      "13 date,ind,rain,ind,maxt,ind,mint,gmin,soil\n",
      "\n",
      "9 date,ind,rain\n",
      "\n",
      "13 date,ind,rain,ind,maxt,ind,mint,gmin,soil\n",
      "\n",
      "9 date,ind,rain\n",
      "\n",
      "9 date,ind,rain\n",
      "\n",
      "9 date,ind,rain\n",
      "\n",
      "13 date,ind,rain,ind,maxt,ind,mint,gmin,soil\n",
      "\n",
      "9 date,ind,rain\n",
      "\n",
      "9 date,ind,rain\n",
      "\n",
      "13 date,ind,rain,ind,maxt,ind,mint,gmin,soil\n",
      "\n",
      "9 date,ind,rain\n",
      "\n",
      "9 date,ind,rain\n",
      "\n",
      "9 date,ind,rain\n",
      "\n",
      "9 date,ind,rain\n",
      "\n",
      "9 date,ind,rain\n",
      "\n",
      "9 date,ind,rain\n",
      "\n",
      "9 date,ind,rain\n",
      "\n",
      "13 date,ind,rain,ind,maxt,ind,mint,gmin,soil\n",
      "\n",
      "13 date,ind,rain,ind,maxt,ind,mint,gmin,soil\n",
      "\n",
      "9 date,ind,rain\n",
      "\n",
      "13 date,ind,rain,ind,maxt,ind,mint,gmin,soil\n",
      "\n",
      "9 date,ind,rain\n",
      "\n",
      "9 date,ind,rain\n",
      "\n",
      "9 date,ind,rain\n",
      "\n",
      "9 date,ind,rain\n",
      "\n",
      "9 date,ind,rain\n",
      "\n",
      "9 date,ind,rain\n",
      "\n",
      "13 date,ind,rain,ind,maxt,ind,mint,gmin,soil\n",
      "\n",
      "13 date,ind,rain,ind,maxt,ind,mint,gmin,soil\n",
      "\n",
      "9 date,ind,rain\n",
      "\n",
      "13 date,ind,rain,ind,maxt,ind,mint,gmin,soil\n",
      "\n",
      "9 date,ind,rain\n",
      "\n",
      "13 date,ind,rain,ind,maxt,ind,mint,gmin,soil\n",
      "\n",
      "9 date,ind,rain\n",
      "\n"
     ]
    }
   ],
   "source": [
    "data = {}\n",
    "\n",
    "for file in os.listdir('data/weather_data/'):\n",
    "    if '.csv' in file:\n",
    "        with open(f'data/weather_data/{file}', 'r') as f:\n",
    "            raw_file = f.read()\n",
    "            \n",
    "        data[int(file.replace('.csv', ''))] = read_csv_after_line(StringIO(raw_file),'date,ind')"
   ]
  },
  {
   "cell_type": "markdown",
   "id": "8e91512d-8442-4aa9-b54f-9e738a7df4b6",
   "metadata": {},
   "source": [
    "None of these stations have wind speed as a metric - but this is because we've mistakenly downloaded the closed station data instead of the open stations - which also explains why so few of them have publically available data. We know that Mullingar has data and the metric we're looking for, but it's not in the list of open stations."
   ]
  },
  {
   "cell_type": "code",
   "execution_count": 58,
   "id": "656f3348-074f-4cba-b7ab-720aaf7a03cf",
   "metadata": {},
   "outputs": [
    {
     "data": {
      "text/html": [
       "<div>\n",
       "<style scoped>\n",
       "    .dataframe tbody tr th:only-of-type {\n",
       "        vertical-align: middle;\n",
       "    }\n",
       "\n",
       "    .dataframe tbody tr th {\n",
       "        vertical-align: top;\n",
       "    }\n",
       "\n",
       "    .dataframe thead th {\n",
       "        text-align: right;\n",
       "    }\n",
       "</style>\n",
       "<table border=\"1\" class=\"dataframe\">\n",
       "  <thead>\n",
       "    <tr style=\"text-align: right;\">\n",
       "      <th></th>\n",
       "      <th>county</th>\n",
       "      <th>station name</th>\n",
       "      <th>name</th>\n",
       "      <th>height(m)</th>\n",
       "      <th>easting</th>\n",
       "      <th>northing</th>\n",
       "      <th>latitude</th>\n",
       "      <th>longitude</th>\n",
       "      <th>open year</th>\n",
       "      <th>close year</th>\n",
       "    </tr>\n",
       "  </thead>\n",
       "  <tbody>\n",
       "    <tr>\n",
       "      <th>1851</th>\n",
       "      <td>Westmeath</td>\n",
       "      <td>875</td>\n",
       "      <td>MULLINGAR</td>\n",
       "      <td>101</td>\n",
       "      <td>243000</td>\n",
       "      <td>254300</td>\n",
       "      <td>53.53722</td>\n",
       "      <td>-7.36222</td>\n",
       "      <td>2002</td>\n",
       "      <td>&lt;NA&gt;</td>\n",
       "    </tr>\n",
       "  </tbody>\n",
       "</table>\n",
       "</div>"
      ],
      "text/plain": [
       "         county  station name       name  height(m)  easting  northing  \\\n",
       "1851  Westmeath           875  MULLINGAR        101   243000    254300   \n",
       "\n",
       "      latitude  longitude  open year  close year  \n",
       "1851  53.53722   -7.36222       2002        <NA>  "
      ]
     },
     "execution_count": 58,
     "metadata": {},
     "output_type": "execute_result"
    }
   ],
   "source": [
    "station_df[station_df['station name'] == 875]"
   ]
  },
  {
   "cell_type": "code",
   "execution_count": 59,
   "id": "0ee28f45-80f4-413f-ad1e-5d2113ccbdc9",
   "metadata": {},
   "outputs": [
    {
     "data": {
      "text/plain": [
       "False"
      ]
     },
     "execution_count": 59,
     "metadata": {},
     "output_type": "execute_result"
    }
   ],
   "source": [
    "875 in open_stations"
   ]
  },
  {
   "cell_type": "markdown",
   "id": "1ced8b62-e575-4ae6-a7d9-a6873d4e0297",
   "metadata": {},
   "source": [
    "There are actually 530 stations rather than 1550. So we can go back to our original strategy of sampling by county."
   ]
  },
  {
   "cell_type": "code",
   "execution_count": 65,
   "id": "a083e812-282e-4147-b5ba-91167453733f",
   "metadata": {},
   "outputs": [
    {
     "data": {
      "text/plain": [
       "530"
      ]
     },
     "execution_count": 65,
     "metadata": {},
     "output_type": "execute_result"
    }
   ],
   "source": [
    "open_stations = list(station_df[pd.isna(station_df[\"close year\"])][\"station name\"])\n",
    "len(open_stations)"
   ]
  },
  {
   "cell_type": "code",
   "execution_count": 71,
   "id": "bcc704bc-881b-4225-ad3b-32ccbf69faf0",
   "metadata": {},
   "outputs": [
    {
     "name": "stdout",
     "output_type": "stream",
     "text": [
      "129\n"
     ]
    },
    {
     "name": "stderr",
     "output_type": "stream",
     "text": [
      "/var/folders/s7/bsy4w2n54pvcvlbx9jg9h2040000gn/T/ipykernel_13248/3599114514.py:1: DeprecationWarning: DataFrameGroupBy.apply operated on the grouping columns. This behavior is deprecated, and in a future version of pandas the grouping columns will be excluded from the operation. Either pass `include_groups=False` to exclude the groupings or explicitly select the grouping columns after groupby to silence this warning.\n",
      "  sample_stations = station_df[pd.isna(station_df[\"close year\"])].groupby('county').apply(lambda x: x.sample(min(len(x), 5))).reset_index(drop=True)\n"
     ]
    },
    {
     "data": {
      "text/html": [
       "<div>\n",
       "<style scoped>\n",
       "    .dataframe tbody tr th:only-of-type {\n",
       "        vertical-align: middle;\n",
       "    }\n",
       "\n",
       "    .dataframe tbody tr th {\n",
       "        vertical-align: top;\n",
       "    }\n",
       "\n",
       "    .dataframe thead th {\n",
       "        text-align: right;\n",
       "    }\n",
       "</style>\n",
       "<table border=\"1\" class=\"dataframe\">\n",
       "  <thead>\n",
       "    <tr style=\"text-align: right;\">\n",
       "      <th></th>\n",
       "      <th>county</th>\n",
       "      <th>station name</th>\n",
       "      <th>name</th>\n",
       "      <th>height(m)</th>\n",
       "      <th>easting</th>\n",
       "      <th>northing</th>\n",
       "      <th>latitude</th>\n",
       "      <th>longitude</th>\n",
       "      <th>open year</th>\n",
       "      <th>close year</th>\n",
       "    </tr>\n",
       "  </thead>\n",
       "  <tbody>\n",
       "    <tr>\n",
       "      <th>0</th>\n",
       "      <td>Antrim</td>\n",
       "      <td>5880</td>\n",
       "      <td>LH_RATHLIN_WEST</td>\n",
       "      <td>10</td>\n",
       "      <td>309200</td>\n",
       "      <td>451800</td>\n",
       "      <td>55.30083</td>\n",
       "      <td>-6.28028</td>\n",
       "      <td>2000</td>\n",
       "      <td>&lt;NA&gt;</td>\n",
       "    </tr>\n",
       "    <tr>\n",
       "      <th>1</th>\n",
       "      <td>Carlow</td>\n",
       "      <td>375</td>\n",
       "      <td>OAK PARK</td>\n",
       "      <td>62</td>\n",
       "      <td>273000</td>\n",
       "      <td>179500</td>\n",
       "      <td>52.86111</td>\n",
       "      <td>-6.91528</td>\n",
       "      <td>2003</td>\n",
       "      <td>&lt;NA&gt;</td>\n",
       "    </tr>\n",
       "    <tr>\n",
       "      <th>2</th>\n",
       "      <td>Carlow</td>\n",
       "      <td>6114</td>\n",
       "      <td>POLLMOUNTY FISH FARM</td>\n",
       "      <td>24</td>\n",
       "      <td>274500</td>\n",
       "      <td>135545</td>\n",
       "      <td>52.46667</td>\n",
       "      <td>-6.90278</td>\n",
       "      <td>1987</td>\n",
       "      <td>&lt;NA&gt;</td>\n",
       "    </tr>\n",
       "    <tr>\n",
       "      <th>3</th>\n",
       "      <td>Carlow</td>\n",
       "      <td>4415</td>\n",
       "      <td>TULLOW (Waterworks)</td>\n",
       "      <td>76</td>\n",
       "      <td>284700</td>\n",
       "      <td>173400</td>\n",
       "      <td>52.80528</td>\n",
       "      <td>-6.74306</td>\n",
       "      <td>1985</td>\n",
       "      <td>&lt;NA&gt;</td>\n",
       "    </tr>\n",
       "    <tr>\n",
       "      <th>4</th>\n",
       "      <td>Carlow</td>\n",
       "      <td>4515</td>\n",
       "      <td>TULLOW (Ardoyne Glebe)</td>\n",
       "      <td>79</td>\n",
       "      <td>288200</td>\n",
       "      <td>169800</td>\n",
       "      <td>52.77194</td>\n",
       "      <td>-6.69333</td>\n",
       "      <td>1985</td>\n",
       "      <td>&lt;NA&gt;</td>\n",
       "    </tr>\n",
       "  </tbody>\n",
       "</table>\n",
       "</div>"
      ],
      "text/plain": [
       "   county  station name                    name  height(m)  easting  northing  \\\n",
       "0  Antrim          5880         LH_RATHLIN_WEST         10   309200    451800   \n",
       "1  Carlow           375                OAK PARK         62   273000    179500   \n",
       "2  Carlow          6114    POLLMOUNTY FISH FARM         24   274500    135545   \n",
       "3  Carlow          4415     TULLOW (Waterworks)         76   284700    173400   \n",
       "4  Carlow          4515  TULLOW (Ardoyne Glebe)         79   288200    169800   \n",
       "\n",
       "   latitude  longitude  open year  close year  \n",
       "0  55.30083   -6.28028       2000        <NA>  \n",
       "1  52.86111   -6.91528       2003        <NA>  \n",
       "2  52.46667   -6.90278       1987        <NA>  \n",
       "3  52.80528   -6.74306       1985        <NA>  \n",
       "4  52.77194   -6.69333       1985        <NA>  "
      ]
     },
     "execution_count": 71,
     "metadata": {},
     "output_type": "execute_result"
    }
   ],
   "source": [
    "sample_stations = station_df[pd.isna(station_df[\"close year\"])].groupby('county').apply(lambda x: x.sample(min(len(x), 5))).reset_index(drop=True)\n",
    "\n",
    "print(len(sample_stations))\n",
    "sample_stations.head()\n"
   ]
  },
  {
   "cell_type": "markdown",
   "id": "22940fcd-a505-4c71-b68a-a651490a5cfb",
   "metadata": {},
   "source": [
    "We were able to download 128 of the 129 target files this time. However many of them still do not have wind speed as a metric, so we'll have to ignore these stations."
   ]
  },
  {
   "cell_type": "code",
   "execution_count": 73,
   "id": "ab2069cc-4b04-48b3-b1f5-b84818ec6ade",
   "metadata": {},
   "outputs": [
    {
     "name": "stderr",
     "output_type": "stream",
     "text": [
      "100%|█████████████████████████████████████████| 129/129 [00:44<00:00,  2.90it/s]"
     ]
    },
    {
     "name": "stdout",
     "output_type": "stream",
     "text": [
      "Downloaded 128 files\n"
     ]
    },
    {
     "name": "stderr",
     "output_type": "stream",
     "text": [
      "\n"
     ]
    }
   ],
   "source": [
    "files_downloaded = 0\n",
    "for station in tqdm(list(sample_stations['station name'])):\n",
    "    try:\n",
    "        url = f\"https://cli.fusio.net/cli/climate_data/webdata/dly{station}.csv\"\n",
    "        response = requests.get(url)\n",
    "        assert response.status_code == 200\n",
    "        with open(data_dir / f\"weather_data/{station}.csv\", \"wb\") as f:\n",
    "            f.write(response.content)\n",
    "        files_downloaded += 1\n",
    "    except:\n",
    "        pass\n",
    "print(f'Downloaded {files_downloaded} files')"
   ]
  },
  {
   "cell_type": "code",
   "execution_count": 74,
   "id": "621945a6-d1a5-4e2d-9a2a-c332d6e45a66",
   "metadata": {},
   "outputs": [
    {
     "name": "stdout",
     "output_type": "stream",
     "text": [
      "9 date,ind,rain\n",
      "\n",
      "9 date,ind,rain\n",
      "\n",
      "9 date,ind,rain\n",
      "\n",
      "9 date,ind,rain\n",
      "\n",
      "9 date,ind,rain\n",
      "\n",
      "9 date,ind,rain\n",
      "\n",
      "13 date,ind,rain,ind,maxt,ind,mint,gmin,soil\n",
      "\n",
      "24 date,ind,maxtp,ind,mintp,igmin,gmin,ind,rain,cbl,wdsp,ind,hm,ind,ddhm,ind,hg,soil,pe,evap,smd_wd,smd_md,smd_pd,glorad\n",
      "\n",
      "13 date,ind,rain,ind,maxt,ind,mint,gmin,soil\n",
      "\n",
      "9 date,ind,rain\n",
      "\n",
      "9 date,ind,rain\n",
      "\n",
      "9 date,ind,rain\n",
      "\n",
      "13 date,ind,rain,ind,maxt,ind,mint,gmin,soil\n",
      "\n",
      "13 date,ind,rain,ind,maxt,ind,mint,gmin,soil\n",
      "\n",
      "9 date,ind,rain\n",
      "\n",
      "9 date,ind,rain\n",
      "\n",
      "9 date,ind,rain\n",
      "\n",
      "13 date,ind,rain,ind,maxt,ind,mint,gmin,soil\n",
      "\n",
      "9 date,ind,rain\n",
      "\n",
      "9 date,ind,rain\n",
      "\n",
      "9 date,ind,rain\n",
      "\n",
      "9 date,ind,rain\n",
      "\n",
      "9 date,ind,rain\n",
      "\n",
      "9 date,ind,rain\n",
      "\n",
      "9 date,ind,rain\n",
      "\n",
      "9 date,ind,rain\n",
      "\n",
      "9 date,ind,rain\n",
      "\n",
      "9 date,ind,rain\n",
      "\n",
      "9 date,ind,rain\n",
      "\n",
      "13 date,ind,rain,ind,maxt,ind,mint,gmin,soil\n",
      "\n",
      "24 date,ind,maxtp,ind,mintp,igmin,gmin,ind,rain,cbl,wdsp,ind,hm,ind,ddhm,ind,hg,soil,pe,evap,smd_wd,smd_md,smd_pd,glorad\n",
      "\n",
      "9 date,ind,rain\n",
      "\n",
      "9 date,ind,rain\n",
      "\n",
      "13 date,ind,rain,ind,maxt,ind,mint,gmin,soil\n",
      "\n",
      "9 date,ind,rain\n",
      "\n",
      "25 date,ind,maxtp,ind,mintp,igmin,gmin,ind,rain,cbl,wdsp,ind,hm,ind,ddhm,ind,hg,sun,dos,g_rad,soil,pe,evap,smd_wd,smd_md,smd_pd\n",
      "\n",
      "9 date,ind,rain\n",
      "\n",
      "24 date,ind,maxtp,ind,mintp,igmin,gmin,ind,rain,cbl,wdsp,ind,hm,ind,ddhm,ind,hg,soil,pe,evap,smd_wd,smd_md,smd_pd,glorad\n",
      "\n",
      "13 date,ind,rain,ind,maxt,ind,mint,gmin,soil\n",
      "\n",
      "9 date,ind,rain\n",
      "\n",
      "9 date,ind,rain\n",
      "\n",
      "13 date,ind,rain,ind,maxt,ind,mint,gmin,soil\n",
      "\n",
      "9 date,ind,rain\n",
      "\n",
      "9 date,ind,rain\n",
      "\n",
      "9 date,ind,rain\n",
      "\n",
      "9 date,ind,rain\n",
      "\n",
      "9 date,ind,rain\n",
      "\n",
      "9 date,ind,rain\n",
      "\n",
      "24 date,ind,maxtp,ind,mintp,igmin,gmin,ind,rain,cbl,wdsp,ind,hm,ind,ddhm,ind,hg,soil,pe,evap,smd_wd,smd_md,smd_pd,glorad\n",
      "\n",
      "9 date,ind,rain\n",
      "\n",
      "9 date,ind,rain\n",
      "\n",
      "9 date,ind,rain\n",
      "\n",
      "9 date,ind,rain\n",
      "\n",
      "9 date,ind,rain\n",
      "\n",
      "9 date,ind,rain\n",
      "\n",
      "9 date,ind,rain\n",
      "\n",
      "9 date,ind,rain\n",
      "\n",
      "9 date,ind,rain\n",
      "\n",
      "14 date,ind,maxtp,ind,mintp,igmin,gmin,ind,rain,cbl,soil\n",
      "\n",
      "13 date,ind,rain,ind,maxt,ind,mint,gmin,soil\n",
      "\n",
      "9 date,ind,rain\n",
      "\n",
      "9 date,ind,rain\n",
      "\n",
      "9 date,ind,rain\n",
      "\n",
      "9 date,ind,rain\n",
      "\n",
      "9 date,ind,rain\n",
      "\n",
      "9 date,ind,rain\n",
      "\n",
      "9 date,ind,rain\n",
      "\n",
      "9 date,ind,rain\n",
      "\n",
      "9 date,ind,rain\n",
      "\n",
      "9 date,ind,rain\n",
      "\n",
      "9 date,ind,rain\n",
      "\n",
      "9 date,ind,rain\n",
      "\n",
      "9 date,ind,rain\n",
      "\n",
      "9 date,ind,rain\n",
      "\n",
      "9 date,ind,rain\n",
      "\n",
      "9 date,ind,rain\n",
      "\n",
      "9 date,ind,rain\n",
      "\n",
      "9 date,ind,rain\n",
      "\n",
      "9 date,ind,rain\n",
      "\n",
      "9 date,ind,rain\n",
      "\n",
      "9 date,ind,rain\n",
      "\n",
      "9 date,ind,rain\n",
      "\n",
      "9 date,ind,rain\n",
      "\n",
      "9 date,ind,rain\n",
      "\n",
      "9 date,ind,rain\n",
      "\n",
      "9 date,ind,rain\n",
      "\n",
      "9 date,ind,rain\n",
      "\n",
      "13 date,ind,rain,ind,maxt,ind,mint,gmin,soil\n",
      "\n",
      "13 date,ind,rain,ind,maxt,ind,mint,gmin,soil\n",
      "\n",
      "9 date,ind,rain\n",
      "\n",
      "9 date,ind,rain\n",
      "\n",
      "9 date,ind,rain\n",
      "\n",
      "9 date,ind,rain\n",
      "\n",
      "9 date,ind,rain\n",
      "\n",
      "9 date,ind,rain\n",
      "\n",
      "9 date,ind,rain\n",
      "\n",
      "9 date,ind,rain\n",
      "\n",
      "9 date,ind,rain\n",
      "\n",
      "9 date,ind,rain\n",
      "\n",
      "9 date,ind,rain\n",
      "\n",
      "24 date,ind,maxtp,ind,mintp,igmin,gmin,ind,rain,cbl,wdsp,ind,hm,ind,ddhm,ind,hg,soil,pe,evap,smd_wd,smd_md,smd_pd,glorad\n",
      "\n",
      "9 date,ind,rain\n",
      "\n",
      "9 date,ind,rain\n",
      "\n",
      "9 date,ind,rain\n",
      "\n",
      "9 date,ind,rain\n",
      "\n",
      "9 date,ind,rain\n",
      "\n",
      "9 date,ind,rain\n",
      "\n",
      "13 date,ind,rain,ind,maxt,ind,mint,gmin,soil\n",
      "\n",
      "9 date,ind,rain\n",
      "\n",
      "9 date,ind,rain\n",
      "\n",
      "9 date,ind,rain\n",
      "\n",
      "24 date,ind,maxtp,ind,mintp,igmin,gmin,ind,rain,cbl,wdsp,ind,hm,ind,ddhm,ind,hg,soil,pe,evap,smd_wd,smd_md,smd_pd,glorad\n",
      "\n",
      "9 date,ind,rain\n",
      "\n",
      "9 date,ind,rain\n",
      "\n",
      "9 date,ind,rain\n",
      "\n",
      "9 date,ind,rain\n",
      "\n",
      "9 date,ind,rain\n",
      "\n",
      "9 date,ind,rain\n",
      "\n",
      "9 date,ind,rain\n",
      "\n",
      "9 date,ind,rain\n",
      "\n",
      "9 date,ind,rain\n",
      "\n",
      "9 date,ind,rain\n",
      "\n",
      "13 date,ind,rain,ind,maxt,ind,mint,gmin,soil\n",
      "\n",
      "9 date,ind,rain\n",
      "\n",
      "9 date,ind,rain\n",
      "\n",
      "9 date,ind,rain\n",
      "\n",
      "9 date,ind,rain\n",
      "\n",
      "9 date,ind,rain\n",
      "\n"
     ]
    }
   ],
   "source": [
    "data = {}\n",
    "\n",
    "for file in os.listdir('data/weather_data/'):\n",
    "    if '.csv' in file:\n",
    "        with open(f'data/weather_data/{file}', 'r') as f:\n",
    "            raw_file = f.read()\n",
    "            \n",
    "        data[int(file.replace('.csv', ''))] = read_csv_after_line(StringIO(raw_file),'date,ind')"
   ]
  },
  {
   "cell_type": "code",
   "execution_count": 76,
   "id": "5b840bdd-e0fe-42b4-bfd9-2097913e44b7",
   "metadata": {},
   "outputs": [
    {
     "data": {
      "text/plain": [
       "7"
      ]
     },
     "execution_count": 76,
     "metadata": {},
     "output_type": "execute_result"
    }
   ],
   "source": [
    "wind_data = {station: df for station, df in data.items() if 'wdsp' in df.columns}\n",
    "len(wind_data.items())"
   ]
  },
  {
   "cell_type": "code",
   "execution_count": 78,
   "id": "cde8eb86-e320-4bd8-8dc8-e03511600d15",
   "metadata": {},
   "outputs": [
    {
     "name": "stdout",
     "output_type": "stream",
     "text": [
      "24\n",
      "24\n",
      "26\n",
      "24\n",
      "24\n",
      "24\n",
      "24\n"
     ]
    }
   ],
   "source": [
    "for x, y in wind_data.items():\n",
    "    print(len(y.columns))"
   ]
  },
  {
   "cell_type": "markdown",
   "id": "640f930a-e72f-4a6c-a739-7bbecf3b2742",
   "metadata": {},
   "source": [
    "In the end, only 7 of the downloaded files have the metric we're looking for."
   ]
  },
  {
   "cell_type": "code",
   "execution_count": 85,
   "id": "e4336ad4-2d2a-4055-bc28-3ada40b2672a",
   "metadata": {},
   "outputs": [
    {
     "data": {
      "text/html": [
       "<div>\n",
       "<style scoped>\n",
       "    .dataframe tbody tr th:only-of-type {\n",
       "        vertical-align: middle;\n",
       "    }\n",
       "\n",
       "    .dataframe tbody tr th {\n",
       "        vertical-align: top;\n",
       "    }\n",
       "\n",
       "    .dataframe thead th {\n",
       "        text-align: right;\n",
       "    }\n",
       "</style>\n",
       "<table border=\"1\" class=\"dataframe\">\n",
       "  <thead>\n",
       "    <tr style=\"text-align: right;\">\n",
       "      <th></th>\n",
       "      <th>date</th>\n",
       "      <th>ind</th>\n",
       "      <th>maxtp</th>\n",
       "      <th>ind.1</th>\n",
       "      <th>mintp</th>\n",
       "      <th>igmin</th>\n",
       "      <th>gmin</th>\n",
       "      <th>ind.2</th>\n",
       "      <th>rain</th>\n",
       "      <th>cbl</th>\n",
       "      <th>...</th>\n",
       "      <th>pe</th>\n",
       "      <th>evap</th>\n",
       "      <th>smd_wd</th>\n",
       "      <th>smd_md</th>\n",
       "      <th>smd_pd</th>\n",
       "      <th>glorad</th>\n",
       "      <th>station name</th>\n",
       "      <th>sun</th>\n",
       "      <th>dos</th>\n",
       "      <th>g_rad</th>\n",
       "    </tr>\n",
       "  </thead>\n",
       "  <tbody>\n",
       "    <tr>\n",
       "      <th>0</th>\n",
       "      <td>19-sep-2008</td>\n",
       "      <td>0</td>\n",
       "      <td>16.8</td>\n",
       "      <td>0</td>\n",
       "      <td>11.7</td>\n",
       "      <td></td>\n",
       "      <td></td>\n",
       "      <td>0</td>\n",
       "      <td>0.0</td>\n",
       "      <td>1019.5</td>\n",
       "      <td>...</td>\n",
       "      <td></td>\n",
       "      <td></td>\n",
       "      <td></td>\n",
       "      <td></td>\n",
       "      <td></td>\n",
       "      <td>1063</td>\n",
       "      <td>1775</td>\n",
       "      <td>NaN</td>\n",
       "      <td>NaN</td>\n",
       "      <td>NaN</td>\n",
       "    </tr>\n",
       "    <tr>\n",
       "      <th>1</th>\n",
       "      <td>20-sep-2008</td>\n",
       "      <td>0</td>\n",
       "      <td>17.0</td>\n",
       "      <td>0</td>\n",
       "      <td>10.4</td>\n",
       "      <td></td>\n",
       "      <td></td>\n",
       "      <td>0</td>\n",
       "      <td>0.0</td>\n",
       "      <td>1021.1</td>\n",
       "      <td>...</td>\n",
       "      <td></td>\n",
       "      <td></td>\n",
       "      <td></td>\n",
       "      <td></td>\n",
       "      <td></td>\n",
       "      <td>1525</td>\n",
       "      <td>1775</td>\n",
       "      <td>NaN</td>\n",
       "      <td>NaN</td>\n",
       "      <td>NaN</td>\n",
       "    </tr>\n",
       "    <tr>\n",
       "      <th>2</th>\n",
       "      <td>21-sep-2008</td>\n",
       "      <td>0</td>\n",
       "      <td>17.0</td>\n",
       "      <td>0</td>\n",
       "      <td>9.6</td>\n",
       "      <td></td>\n",
       "      <td></td>\n",
       "      <td>0</td>\n",
       "      <td>0.2</td>\n",
       "      <td>1019.4</td>\n",
       "      <td>...</td>\n",
       "      <td></td>\n",
       "      <td></td>\n",
       "      <td></td>\n",
       "      <td></td>\n",
       "      <td></td>\n",
       "      <td>1340</td>\n",
       "      <td>1775</td>\n",
       "      <td>NaN</td>\n",
       "      <td>NaN</td>\n",
       "      <td>NaN</td>\n",
       "    </tr>\n",
       "    <tr>\n",
       "      <th>3</th>\n",
       "      <td>22-sep-2008</td>\n",
       "      <td>0</td>\n",
       "      <td>16.0</td>\n",
       "      <td>0</td>\n",
       "      <td>10.6</td>\n",
       "      <td></td>\n",
       "      <td></td>\n",
       "      <td>0</td>\n",
       "      <td>0.0</td>\n",
       "      <td>1021.4</td>\n",
       "      <td>...</td>\n",
       "      <td></td>\n",
       "      <td></td>\n",
       "      <td></td>\n",
       "      <td></td>\n",
       "      <td></td>\n",
       "      <td>1572</td>\n",
       "      <td>1775</td>\n",
       "      <td>NaN</td>\n",
       "      <td>NaN</td>\n",
       "      <td>NaN</td>\n",
       "    </tr>\n",
       "    <tr>\n",
       "      <th>4</th>\n",
       "      <td>23-sep-2008</td>\n",
       "      <td>0</td>\n",
       "      <td>14.5</td>\n",
       "      <td>0</td>\n",
       "      <td>8.1</td>\n",
       "      <td></td>\n",
       "      <td></td>\n",
       "      <td>0</td>\n",
       "      <td>0.0</td>\n",
       "      <td>1021.2</td>\n",
       "      <td>...</td>\n",
       "      <td></td>\n",
       "      <td></td>\n",
       "      <td></td>\n",
       "      <td></td>\n",
       "      <td></td>\n",
       "      <td>1468</td>\n",
       "      <td>1775</td>\n",
       "      <td>NaN</td>\n",
       "      <td>NaN</td>\n",
       "      <td>NaN</td>\n",
       "    </tr>\n",
       "  </tbody>\n",
       "</table>\n",
       "<p>5 rows × 28 columns</p>\n",
       "</div>"
      ],
      "text/plain": [
       "          date  ind maxtp  ind.1 mintp igmin gmin  ind.2 rain     cbl  ... pe  \\\n",
       "0  19-sep-2008    0  16.8      0  11.7                 0  0.0  1019.5  ...      \n",
       "1  20-sep-2008    0  17.0      0  10.4                 0  0.0  1021.1  ...      \n",
       "2  21-sep-2008    0  17.0      0   9.6                 0  0.2  1019.4  ...      \n",
       "3  22-sep-2008    0  16.0      0  10.6                 0  0.0  1021.4  ...      \n",
       "4  23-sep-2008    0  14.5      0   8.1                 0  0.0  1021.2  ...      \n",
       "\n",
       "   evap smd_wd  smd_md smd_pd  glorad station name sun  dos g_rad  \n",
       "0                                1063         1775 NaN  NaN   NaN  \n",
       "1                                1525         1775 NaN  NaN   NaN  \n",
       "2                                1340         1775 NaN  NaN   NaN  \n",
       "3                                1572         1775 NaN  NaN   NaN  \n",
       "4                                1468         1775 NaN  NaN   NaN  \n",
       "\n",
       "[5 rows x 28 columns]"
      ]
     },
     "execution_count": 85,
     "metadata": {},
     "output_type": "execute_result"
    }
   ],
   "source": [
    "dfs = []\n",
    "for station, df in wind_data.items():\n",
    "    df['station name'] = station\n",
    "    dfs.append(df)\n",
    "\n",
    "combined_df = pd.concat(dfs)\n",
    "combined_df.head()\n"
   ]
  },
  {
   "cell_type": "markdown",
   "id": "c8e9e074-6491-4768-91cf-fb825d03e173",
   "metadata": {},
   "source": [
    "Using a similar process to assignment 6, we can clean up this combined dataset. We can also trim out some of the columns we don't care about."
   ]
  },
  {
   "cell_type": "code",
   "execution_count": 89,
   "id": "090e92fc-85b8-4ee4-b797-fa0d498b56bc",
   "metadata": {},
   "outputs": [
    {
     "data": {
      "text/html": [
       "<div>\n",
       "<style scoped>\n",
       "    .dataframe tbody tr th:only-of-type {\n",
       "        vertical-align: middle;\n",
       "    }\n",
       "\n",
       "    .dataframe tbody tr th {\n",
       "        vertical-align: top;\n",
       "    }\n",
       "\n",
       "    .dataframe thead th {\n",
       "        text-align: right;\n",
       "    }\n",
       "</style>\n",
       "<table border=\"1\" class=\"dataframe\">\n",
       "  <thead>\n",
       "    <tr style=\"text-align: right;\">\n",
       "      <th></th>\n",
       "      <th>date</th>\n",
       "      <th>station name</th>\n",
       "      <th>mean_wind_speed</th>\n",
       "      <th>highest_wind_speed</th>\n",
       "      <th>highest_wind_speed_direction</th>\n",
       "      <th>highest_gust</th>\n",
       "    </tr>\n",
       "  </thead>\n",
       "  <tbody>\n",
       "    <tr>\n",
       "      <th>0</th>\n",
       "      <td>2008-09-19</td>\n",
       "      <td>1775</td>\n",
       "      <td>0.1</td>\n",
       "      <td>0</td>\n",
       "      <td>10</td>\n",
       "      <td>0</td>\n",
       "    </tr>\n",
       "    <tr>\n",
       "      <th>1</th>\n",
       "      <td>2008-09-20</td>\n",
       "      <td>1775</td>\n",
       "      <td>0.1</td>\n",
       "      <td>0</td>\n",
       "      <td>10</td>\n",
       "      <td>0</td>\n",
       "    </tr>\n",
       "    <tr>\n",
       "      <th>2</th>\n",
       "      <td>2008-09-21</td>\n",
       "      <td>1775</td>\n",
       "      <td>0.1</td>\n",
       "      <td>0</td>\n",
       "      <td>0</td>\n",
       "      <td>0</td>\n",
       "    </tr>\n",
       "    <tr>\n",
       "      <th>3</th>\n",
       "      <td>2008-09-22</td>\n",
       "      <td>1775</td>\n",
       "      <td>0.1</td>\n",
       "      <td>0</td>\n",
       "      <td>0</td>\n",
       "      <td>0</td>\n",
       "    </tr>\n",
       "    <tr>\n",
       "      <th>4</th>\n",
       "      <td>2008-09-23</td>\n",
       "      <td>1775</td>\n",
       "      <td>0.1</td>\n",
       "      <td>0</td>\n",
       "      <td>10</td>\n",
       "      <td>0</td>\n",
       "    </tr>\n",
       "  </tbody>\n",
       "</table>\n",
       "</div>"
      ],
      "text/plain": [
       "        date  station name  mean_wind_speed highest_wind_speed  \\\n",
       "0 2008-09-19          1775              0.1                  0   \n",
       "1 2008-09-20          1775              0.1                  0   \n",
       "2 2008-09-21          1775              0.1                  0   \n",
       "3 2008-09-22          1775              0.1                  0   \n",
       "4 2008-09-23          1775              0.1                  0   \n",
       "\n",
       "  highest_wind_speed_direction highest_gust  \n",
       "0                           10            0  \n",
       "1                           10            0  \n",
       "2                            0            0  \n",
       "3                            0            0  \n",
       "4                           10            0  "
      ]
     },
     "execution_count": 89,
     "metadata": {},
     "output_type": "execute_result"
    }
   ],
   "source": [
    "combined_df.date = pd.to_datetime(combined_df.date, format='%d-%b-%Y')\n",
    "combined_df.wdsp = pd.to_numeric(combined_df.wdsp, errors='coerce')\n",
    "combined_wind_df = combined_df[['date', 'station name', 'wdsp', 'hm', 'ddhm', 'hg']]\\\n",
    "    .rename(columns={\n",
    "        'wdsp': 'mean_wind_speed',\n",
    "        'hm': 'highest_wind_speed',\n",
    "        'ddhm': 'highest_wind_speed_direction',\n",
    "        'hg': 'highest_gust'\n",
    "    })\n",
    "combined_wind_df.head()"
   ]
  },
  {
   "cell_type": "markdown",
   "id": "7e21630a-4457-4a8c-b83f-f5c3c05f0348",
   "metadata": {},
   "source": [
    "Joining back to the station table gives us the locations and counties of each of the wind readings"
   ]
  },
  {
   "cell_type": "code",
   "execution_count": 95,
   "id": "4dff921c-83cf-48a1-a568-832f93c0b735",
   "metadata": {},
   "outputs": [],
   "source": [
    "cleaned_wind_df = combined_wind_df.merge(\n",
    "    station_df[['station name', 'county', 'name', 'height(m)', 'latitude', 'longitude', 'easting', 'northing']], \n",
    "    on='station name', how='left')\n",
    "\n",
    "cleaned_wind_df.to_csv('data/wind_data.csv', index=False)"
   ]
  },
  {
   "cell_type": "code",
   "execution_count": 96,
   "id": "99c78dda-abe6-4a18-b123-d4ab4e76c729",
   "metadata": {
    "scrolled": true
   },
   "outputs": [
    {
     "data": {
      "text/html": [
       "<div>\n",
       "<style scoped>\n",
       "    .dataframe tbody tr th:only-of-type {\n",
       "        vertical-align: middle;\n",
       "    }\n",
       "\n",
       "    .dataframe tbody tr th {\n",
       "        vertical-align: top;\n",
       "    }\n",
       "\n",
       "    .dataframe thead th {\n",
       "        text-align: right;\n",
       "    }\n",
       "</style>\n",
       "<table border=\"1\" class=\"dataframe\">\n",
       "  <thead>\n",
       "    <tr style=\"text-align: right;\">\n",
       "      <th></th>\n",
       "      <th>date</th>\n",
       "      <th>station name</th>\n",
       "      <th>mean_wind_speed</th>\n",
       "      <th>highest_wind_speed</th>\n",
       "      <th>highest_wind_speed_direction</th>\n",
       "      <th>highest_gust</th>\n",
       "      <th>county</th>\n",
       "      <th>name</th>\n",
       "      <th>height(m)</th>\n",
       "      <th>latitude</th>\n",
       "      <th>longitude</th>\n",
       "      <th>easting</th>\n",
       "      <th>northing</th>\n",
       "    </tr>\n",
       "  </thead>\n",
       "  <tbody>\n",
       "    <tr>\n",
       "      <th>0</th>\n",
       "      <td>2008-09-19</td>\n",
       "      <td>1775</td>\n",
       "      <td>0.1</td>\n",
       "      <td>0</td>\n",
       "      <td>10</td>\n",
       "      <td>0</td>\n",
       "      <td>Wexford</td>\n",
       "      <td>JOHNSTOWN CASTLE 2</td>\n",
       "      <td>62</td>\n",
       "      <td>52.29778</td>\n",
       "      <td>-6.49667</td>\n",
       "      <td>302631</td>\n",
       "      <td>117200</td>\n",
       "    </tr>\n",
       "    <tr>\n",
       "      <th>1</th>\n",
       "      <td>2008-09-20</td>\n",
       "      <td>1775</td>\n",
       "      <td>0.1</td>\n",
       "      <td>0</td>\n",
       "      <td>10</td>\n",
       "      <td>0</td>\n",
       "      <td>Wexford</td>\n",
       "      <td>JOHNSTOWN CASTLE 2</td>\n",
       "      <td>62</td>\n",
       "      <td>52.29778</td>\n",
       "      <td>-6.49667</td>\n",
       "      <td>302631</td>\n",
       "      <td>117200</td>\n",
       "    </tr>\n",
       "    <tr>\n",
       "      <th>2</th>\n",
       "      <td>2008-09-21</td>\n",
       "      <td>1775</td>\n",
       "      <td>0.1</td>\n",
       "      <td>0</td>\n",
       "      <td>0</td>\n",
       "      <td>0</td>\n",
       "      <td>Wexford</td>\n",
       "      <td>JOHNSTOWN CASTLE 2</td>\n",
       "      <td>62</td>\n",
       "      <td>52.29778</td>\n",
       "      <td>-6.49667</td>\n",
       "      <td>302631</td>\n",
       "      <td>117200</td>\n",
       "    </tr>\n",
       "    <tr>\n",
       "      <th>3</th>\n",
       "      <td>2008-09-22</td>\n",
       "      <td>1775</td>\n",
       "      <td>0.1</td>\n",
       "      <td>0</td>\n",
       "      <td>0</td>\n",
       "      <td>0</td>\n",
       "      <td>Wexford</td>\n",
       "      <td>JOHNSTOWN CASTLE 2</td>\n",
       "      <td>62</td>\n",
       "      <td>52.29778</td>\n",
       "      <td>-6.49667</td>\n",
       "      <td>302631</td>\n",
       "      <td>117200</td>\n",
       "    </tr>\n",
       "    <tr>\n",
       "      <th>4</th>\n",
       "      <td>2008-09-23</td>\n",
       "      <td>1775</td>\n",
       "      <td>0.1</td>\n",
       "      <td>0</td>\n",
       "      <td>10</td>\n",
       "      <td>0</td>\n",
       "      <td>Wexford</td>\n",
       "      <td>JOHNSTOWN CASTLE 2</td>\n",
       "      <td>62</td>\n",
       "      <td>52.29778</td>\n",
       "      <td>-6.49667</td>\n",
       "      <td>302631</td>\n",
       "      <td>117200</td>\n",
       "    </tr>\n",
       "  </tbody>\n",
       "</table>\n",
       "</div>"
      ],
      "text/plain": [
       "        date  station name  mean_wind_speed highest_wind_speed  \\\n",
       "0 2008-09-19          1775              0.1                  0   \n",
       "1 2008-09-20          1775              0.1                  0   \n",
       "2 2008-09-21          1775              0.1                  0   \n",
       "3 2008-09-22          1775              0.1                  0   \n",
       "4 2008-09-23          1775              0.1                  0   \n",
       "\n",
       "  highest_wind_speed_direction highest_gust   county                name  \\\n",
       "0                           10            0  Wexford  JOHNSTOWN CASTLE 2   \n",
       "1                           10            0  Wexford  JOHNSTOWN CASTLE 2   \n",
       "2                            0            0  Wexford  JOHNSTOWN CASTLE 2   \n",
       "3                            0            0  Wexford  JOHNSTOWN CASTLE 2   \n",
       "4                           10            0  Wexford  JOHNSTOWN CASTLE 2   \n",
       "\n",
       "   height(m)  latitude  longitude  easting  northing  \n",
       "0         62  52.29778   -6.49667   302631    117200  \n",
       "1         62  52.29778   -6.49667   302631    117200  \n",
       "2         62  52.29778   -6.49667   302631    117200  \n",
       "3         62  52.29778   -6.49667   302631    117200  \n",
       "4         62  52.29778   -6.49667   302631    117200  "
      ]
     },
     "execution_count": 96,
     "metadata": {},
     "output_type": "execute_result"
    }
   ],
   "source": [
    "cleaned_wind_df.head()"
   ]
  },
  {
   "cell_type": "markdown",
   "id": "8feac08f-0545-4929-8955-3c72e0ea7c9b",
   "metadata": {},
   "source": [
    "We also want information on wind farms in Ireland. There is a dataset from 2022 with each of the wind farms in the 26 counties on data.gov.ie\n",
    "https://data.gov.ie/dataset/wind-farms-in-ireland\n",
    "\n",
    "Although this data is nearly 3 years out of date, this will give a good indication of the number and distribution of wind energy producers within the country. "
   ]
  },
  {
   "cell_type": "code",
   "execution_count": 135,
   "id": "024fa558-c802-4a69-a633-0c2c535516f2",
   "metadata": {},
   "outputs": [
    {
     "data": {
      "text/html": [
       "<div>\n",
       "<style scoped>\n",
       "    .dataframe tbody tr th:only-of-type {\n",
       "        vertical-align: middle;\n",
       "    }\n",
       "\n",
       "    .dataframe tbody tr th {\n",
       "        vertical-align: top;\n",
       "    }\n",
       "\n",
       "    .dataframe thead th {\n",
       "        text-align: right;\n",
       "    }\n",
       "</style>\n",
       "<table border=\"1\" class=\"dataframe\">\n",
       "  <thead>\n",
       "    <tr style=\"text-align: right;\">\n",
       "      <th></th>\n",
       "      <th>Windfarm_Name</th>\n",
       "      <th>DSO_TSO</th>\n",
       "      <th>Connection_Ref</th>\n",
       "      <th>County</th>\n",
       "      <th>Present_Status</th>\n",
       "      <th>Installed_Capacity__MW_</th>\n",
       "      <th>MEC__MW_</th>\n",
       "      <th>Gate</th>\n",
       "      <th>F110kV_Node_Name</th>\n",
       "      <th>Target_Connection</th>\n",
       "      <th>Date_of_Connection</th>\n",
       "      <th>Year_of_Connection</th>\n",
       "      <th>Nat_Grid_E__substation_</th>\n",
       "      <th>Nat_Grid_N__substation_</th>\n",
       "      <th>Type</th>\n",
       "    </tr>\n",
       "  </thead>\n",
       "  <tbody>\n",
       "    <tr>\n",
       "      <th>0</th>\n",
       "      <td>Bellacorrick Wind Farm</td>\n",
       "      <td>DSO</td>\n",
       "      <td>DG955</td>\n",
       "      <td>Mayo</td>\n",
       "      <td>Connected</td>\n",
       "      <td>NaN</td>\n",
       "      <td>6.45</td>\n",
       "      <td>Pre-Gate</td>\n",
       "      <td>Bellacorick</td>\n",
       "      <td>01/10/1992</td>\n",
       "      <td>01/10/1992</td>\n",
       "      <td>1992</td>\n",
       "      <td>98670.0</td>\n",
       "      <td>321420.0</td>\n",
       "      <td>Wind</td>\n",
       "    </tr>\n",
       "    <tr>\n",
       "      <th>1</th>\n",
       "      <td>Corrie Mt.</td>\n",
       "      <td>DSO</td>\n",
       "      <td>DG961</td>\n",
       "      <td>Leitrim</td>\n",
       "      <td>Connected</td>\n",
       "      <td>NaN</td>\n",
       "      <td>4.80</td>\n",
       "      <td>Pre-Gate</td>\n",
       "      <td>Arigna</td>\n",
       "      <td>NaN</td>\n",
       "      <td>01/03/1997</td>\n",
       "      <td>1997</td>\n",
       "      <td>190043.0</td>\n",
       "      <td>320081.0</td>\n",
       "      <td>Wind</td>\n",
       "    </tr>\n",
       "    <tr>\n",
       "      <th>2</th>\n",
       "      <td>Mount Cronalaght</td>\n",
       "      <td>DSO</td>\n",
       "      <td>DG974</td>\n",
       "      <td>Donegal</td>\n",
       "      <td>Connected</td>\n",
       "      <td>NaN</td>\n",
       "      <td>4.98</td>\n",
       "      <td>Pre-Gate</td>\n",
       "      <td>Letterkenny</td>\n",
       "      <td>01/07/1997</td>\n",
       "      <td>01/07/1997</td>\n",
       "      <td>1997</td>\n",
       "      <td>186118.0</td>\n",
       "      <td>423981.0</td>\n",
       "      <td>Wind</td>\n",
       "    </tr>\n",
       "    <tr>\n",
       "      <th>3</th>\n",
       "      <td>Golagh (1)</td>\n",
       "      <td>TSO</td>\n",
       "      <td>P25</td>\n",
       "      <td>Donegal</td>\n",
       "      <td>Connected</td>\n",
       "      <td>15.0</td>\n",
       "      <td>15.00</td>\n",
       "      <td>Pre-Gate</td>\n",
       "      <td>Golagh 110 kV</td>\n",
       "      <td>NaN</td>\n",
       "      <td>01/07/1997</td>\n",
       "      <td>1997</td>\n",
       "      <td>203554.0</td>\n",
       "      <td>382308.0</td>\n",
       "      <td>Wind</td>\n",
       "    </tr>\n",
       "    <tr>\n",
       "      <th>4</th>\n",
       "      <td>Drumlough Hill Wind Farm</td>\n",
       "      <td>DSO</td>\n",
       "      <td>DG920</td>\n",
       "      <td>Donegal</td>\n",
       "      <td>Connected</td>\n",
       "      <td>NaN</td>\n",
       "      <td>4.80</td>\n",
       "      <td>Pre-Gate</td>\n",
       "      <td>Trillick</td>\n",
       "      <td>01/08/1997</td>\n",
       "      <td>01/08/1997</td>\n",
       "      <td>1997</td>\n",
       "      <td>235797.0</td>\n",
       "      <td>439828.0</td>\n",
       "      <td>Wind</td>\n",
       "    </tr>\n",
       "  </tbody>\n",
       "</table>\n",
       "</div>"
      ],
      "text/plain": [
       "              Windfarm_Name DSO_TSO Connection_Ref   County Present_Status  \\\n",
       "0    Bellacorrick Wind Farm     DSO          DG955     Mayo      Connected   \n",
       "1                Corrie Mt.     DSO          DG961  Leitrim      Connected   \n",
       "2          Mount Cronalaght     DSO          DG974  Donegal      Connected   \n",
       "3                Golagh (1)     TSO            P25  Donegal      Connected   \n",
       "4  Drumlough Hill Wind Farm     DSO          DG920  Donegal      Connected   \n",
       "\n",
       "   Installed_Capacity__MW_  MEC__MW_      Gate F110kV_Node_Name  \\\n",
       "0                      NaN      6.45  Pre-Gate      Bellacorick   \n",
       "1                      NaN      4.80  Pre-Gate           Arigna   \n",
       "2                      NaN      4.98  Pre-Gate      Letterkenny   \n",
       "3                     15.0     15.00  Pre-Gate    Golagh 110 kV   \n",
       "4                      NaN      4.80  Pre-Gate         Trillick   \n",
       "\n",
       "  Target_Connection Date_of_Connection  Year_of_Connection  \\\n",
       "0        01/10/1992         01/10/1992                1992   \n",
       "1               NaN         01/03/1997                1997   \n",
       "2        01/07/1997         01/07/1997                1997   \n",
       "3               NaN         01/07/1997                1997   \n",
       "4        01/08/1997         01/08/1997                1997   \n",
       "\n",
       "   Nat_Grid_E__substation_  Nat_Grid_N__substation_  Type  \n",
       "0                  98670.0                 321420.0  Wind  \n",
       "1                 190043.0                 320081.0  Wind  \n",
       "2                 186118.0                 423981.0  Wind  \n",
       "3                 203554.0                 382308.0  Wind  \n",
       "4                 235797.0                 439828.0  Wind  "
      ]
     },
     "execution_count": 135,
     "metadata": {},
     "output_type": "execute_result"
    }
   ],
   "source": [
    "wind_farm_df = pd.read_csv('https://seaiopendata.blob.core.windows.net/wind/WindFarmsConnectedJune2022.csv')\n",
    "wind_farm_df.to_csv(\"data/wind_farm_data.csv\", index=False)\n",
    "\n",
    "wind_farm_df.head()"
   ]
  },
  {
   "cell_type": "code",
   "execution_count": 99,
   "id": "c2d8c4d0-e302-4744-acfa-a3b3865e64be",
   "metadata": {},
   "outputs": [
    {
     "data": {
      "text/html": [
       "<div>\n",
       "<style scoped>\n",
       "    .dataframe tbody tr th:only-of-type {\n",
       "        vertical-align: middle;\n",
       "    }\n",
       "\n",
       "    .dataframe tbody tr th {\n",
       "        vertical-align: top;\n",
       "    }\n",
       "\n",
       "    .dataframe thead th {\n",
       "        text-align: right;\n",
       "    }\n",
       "</style>\n",
       "<table border=\"1\" class=\"dataframe\">\n",
       "  <thead>\n",
       "    <tr style=\"text-align: right;\">\n",
       "      <th></th>\n",
       "      <th>Windfarm_Name</th>\n",
       "      <th>DSO_TSO</th>\n",
       "      <th>Connection_Ref</th>\n",
       "      <th>County</th>\n",
       "      <th>Present_Status</th>\n",
       "      <th>Installed_Capacity__MW_</th>\n",
       "      <th>MEC__MW_</th>\n",
       "      <th>Gate</th>\n",
       "      <th>F110kV_Node_Name</th>\n",
       "      <th>Target_Connection</th>\n",
       "      <th>Date_of_Connection</th>\n",
       "      <th>Year_of_Connection</th>\n",
       "      <th>Nat_Grid_E__substation_</th>\n",
       "      <th>Nat_Grid_N__substation_</th>\n",
       "      <th>Type</th>\n",
       "    </tr>\n",
       "  </thead>\n",
       "  <tbody>\n",
       "    <tr>\n",
       "      <th>3</th>\n",
       "      <td>Golagh (1)</td>\n",
       "      <td>TSO</td>\n",
       "      <td>P25</td>\n",
       "      <td>Donegal</td>\n",
       "      <td>Connected</td>\n",
       "      <td>15.0</td>\n",
       "      <td>15.00</td>\n",
       "      <td>Pre-Gate</td>\n",
       "      <td>Golagh 110 kV</td>\n",
       "      <td>NaN</td>\n",
       "      <td>01/07/1997</td>\n",
       "      <td>1997</td>\n",
       "      <td>203554.0</td>\n",
       "      <td>382308.0</td>\n",
       "      <td>Wind</td>\n",
       "    </tr>\n",
       "    <tr>\n",
       "      <th>22</th>\n",
       "      <td>Kingsmountain (1)</td>\n",
       "      <td>TSO</td>\n",
       "      <td>P38A</td>\n",
       "      <td>Sligo</td>\n",
       "      <td>Connected</td>\n",
       "      <td>25.0</td>\n",
       "      <td>23.75</td>\n",
       "      <td>Pre-Gate</td>\n",
       "      <td>Cunghill 110 kV</td>\n",
       "      <td>NaN</td>\n",
       "      <td>01/05/2003</td>\n",
       "      <td>2003</td>\n",
       "      <td>148479.0</td>\n",
       "      <td>328662.0</td>\n",
       "      <td>Wind</td>\n",
       "    </tr>\n",
       "    <tr>\n",
       "      <th>35</th>\n",
       "      <td>Meentycat (1)</td>\n",
       "      <td>TSO</td>\n",
       "      <td>P38BDF</td>\n",
       "      <td>Donegal</td>\n",
       "      <td>Connected</td>\n",
       "      <td>72.4</td>\n",
       "      <td>70.96</td>\n",
       "      <td>Pre-Gate</td>\n",
       "      <td>Meentycat 110 kV</td>\n",
       "      <td>NaN</td>\n",
       "      <td>01/10/2004</td>\n",
       "      <td>2004</td>\n",
       "      <td>208891.0</td>\n",
       "      <td>402425.0</td>\n",
       "      <td>Wind</td>\n",
       "    </tr>\n",
       "    <tr>\n",
       "      <th>43</th>\n",
       "      <td>Ballywater (1)</td>\n",
       "      <td>TSO</td>\n",
       "      <td>TG13</td>\n",
       "      <td>Wexford</td>\n",
       "      <td>Connected</td>\n",
       "      <td>31.5</td>\n",
       "      <td>31.50</td>\n",
       "      <td>Pre-Gate</td>\n",
       "      <td>Ballywater 110 kV</td>\n",
       "      <td>NaN</td>\n",
       "      <td>01/05/2005</td>\n",
       "      <td>2005</td>\n",
       "      <td>318720.0</td>\n",
       "      <td>144330.0</td>\n",
       "      <td>Wind</td>\n",
       "    </tr>\n",
       "    <tr>\n",
       "      <th>45</th>\n",
       "      <td>Booltiagh (1)</td>\n",
       "      <td>TSO</td>\n",
       "      <td>TG07</td>\n",
       "      <td>Clare</td>\n",
       "      <td>Connected</td>\n",
       "      <td>19.5</td>\n",
       "      <td>19.45</td>\n",
       "      <td>Pre-Gate</td>\n",
       "      <td>Booltiagh 110 kV</td>\n",
       "      <td>NaN</td>\n",
       "      <td>01/08/2005</td>\n",
       "      <td>2005</td>\n",
       "      <td>115969.0</td>\n",
       "      <td>170581.0</td>\n",
       "      <td>Wind</td>\n",
       "    </tr>\n",
       "    <tr>\n",
       "      <th>...</th>\n",
       "      <td>...</td>\n",
       "      <td>...</td>\n",
       "      <td>...</td>\n",
       "      <td>...</td>\n",
       "      <td>...</td>\n",
       "      <td>...</td>\n",
       "      <td>...</td>\n",
       "      <td>...</td>\n",
       "      <td>...</td>\n",
       "      <td>...</td>\n",
       "      <td>...</td>\n",
       "      <td>...</td>\n",
       "      <td>...</td>\n",
       "      <td>...</td>\n",
       "      <td>...</td>\n",
       "    </tr>\n",
       "    <tr>\n",
       "      <th>307</th>\n",
       "      <td>Esk Wind Farm Phase 1</td>\n",
       "      <td>DSO</td>\n",
       "      <td>DG149a</td>\n",
       "      <td>Cork</td>\n",
       "      <td>Energised</td>\n",
       "      <td>0.0</td>\n",
       "      <td>5.40</td>\n",
       "      <td>Gate 3</td>\n",
       "      <td>BOGGERAGH</td>\n",
       "      <td>15/02/2020</td>\n",
       "      <td>16/10/2020</td>\n",
       "      <td>2020</td>\n",
       "      <td>145006.0</td>\n",
       "      <td>90090.0</td>\n",
       "      <td>Wind</td>\n",
       "    </tr>\n",
       "    <tr>\n",
       "      <th>309</th>\n",
       "      <td>Sorrell Island (Glenmore) WF Ext</td>\n",
       "      <td>DSO</td>\n",
       "      <td>DG1817</td>\n",
       "      <td>Clare</td>\n",
       "      <td>Energised</td>\n",
       "      <td>0.0</td>\n",
       "      <td>8.00</td>\n",
       "      <td>ECP-1</td>\n",
       "      <td>BOOLTIAGH</td>\n",
       "      <td>NaN</td>\n",
       "      <td>30/10/2020</td>\n",
       "      <td>2020</td>\n",
       "      <td>114719.0</td>\n",
       "      <td>169051.0</td>\n",
       "      <td>Wind</td>\n",
       "    </tr>\n",
       "    <tr>\n",
       "      <th>310</th>\n",
       "      <td>Carrigdangan (formerly Barnadivane)</td>\n",
       "      <td>TSO</td>\n",
       "      <td>TG44</td>\n",
       "      <td>Cork</td>\n",
       "      <td>Connected</td>\n",
       "      <td>54.3</td>\n",
       "      <td>54.30</td>\n",
       "      <td>Gate 3</td>\n",
       "      <td>Dunmanway 110kV</td>\n",
       "      <td>NaN</td>\n",
       "      <td>01/01/2021</td>\n",
       "      <td>2021</td>\n",
       "      <td>134600.0</td>\n",
       "      <td>63300.0</td>\n",
       "      <td>Wind</td>\n",
       "    </tr>\n",
       "    <tr>\n",
       "      <th>311</th>\n",
       "      <td>Clogheravaddy Wind Farm (Phase 2)</td>\n",
       "      <td>DSO</td>\n",
       "      <td>DG269B</td>\n",
       "      <td>Donegal</td>\n",
       "      <td>Connected</td>\n",
       "      <td>0.0</td>\n",
       "      <td>10.80</td>\n",
       "      <td>Gate 3</td>\n",
       "      <td>Binbane</td>\n",
       "      <td>NaN</td>\n",
       "      <td>01/01/2022</td>\n",
       "      <td>2022</td>\n",
       "      <td>182738.0</td>\n",
       "      <td>384378.0</td>\n",
       "      <td>Wind</td>\n",
       "    </tr>\n",
       "    <tr>\n",
       "      <th>312</th>\n",
       "      <td>Patrick Costello Wind Turbine Ext</td>\n",
       "      <td>DSO</td>\n",
       "      <td>DG1849</td>\n",
       "      <td>Tipperary</td>\n",
       "      <td>Energised</td>\n",
       "      <td>0.0</td>\n",
       "      <td>0.13</td>\n",
       "      <td>Non-Batch</td>\n",
       "      <td>CAHIR</td>\n",
       "      <td>NaN</td>\n",
       "      <td>15/03/2022</td>\n",
       "      <td>2022</td>\n",
       "      <td>196297.0</td>\n",
       "      <td>156240.0</td>\n",
       "      <td>Wind</td>\n",
       "    </tr>\n",
       "  </tbody>\n",
       "</table>\n",
       "<p>86 rows × 15 columns</p>\n",
       "</div>"
      ],
      "text/plain": [
       "                           Windfarm_Name DSO_TSO Connection_Ref     County  \\\n",
       "3                             Golagh (1)     TSO            P25    Donegal   \n",
       "22                     Kingsmountain (1)     TSO           P38A      Sligo   \n",
       "35                         Meentycat (1)     TSO         P38BDF    Donegal   \n",
       "43                        Ballywater (1)     TSO           TG13    Wexford   \n",
       "45                         Booltiagh (1)     TSO           TG07      Clare   \n",
       "..                                   ...     ...            ...        ...   \n",
       "307                Esk Wind Farm Phase 1     DSO         DG149a       Cork   \n",
       "309     Sorrell Island (Glenmore) WF Ext     DSO         DG1817      Clare   \n",
       "310  Carrigdangan (formerly Barnadivane)     TSO           TG44       Cork   \n",
       "311    Clogheravaddy Wind Farm (Phase 2)     DSO         DG269B    Donegal   \n",
       "312    Patrick Costello Wind Turbine Ext     DSO         DG1849  Tipperary   \n",
       "\n",
       "    Present_Status  Installed_Capacity__MW_  MEC__MW_       Gate  \\\n",
       "3        Connected                     15.0     15.00   Pre-Gate   \n",
       "22       Connected                     25.0     23.75   Pre-Gate   \n",
       "35       Connected                     72.4     70.96   Pre-Gate   \n",
       "43       Connected                     31.5     31.50   Pre-Gate   \n",
       "45       Connected                     19.5     19.45   Pre-Gate   \n",
       "..             ...                      ...       ...        ...   \n",
       "307      Energised                      0.0      5.40     Gate 3   \n",
       "309      Energised                      0.0      8.00      ECP-1   \n",
       "310      Connected                     54.3     54.30     Gate 3   \n",
       "311      Connected                      0.0     10.80     Gate 3   \n",
       "312      Energised                      0.0      0.13  Non-Batch   \n",
       "\n",
       "      F110kV_Node_Name Target_Connection Date_of_Connection  \\\n",
       "3        Golagh 110 kV               NaN         01/07/1997   \n",
       "22     Cunghill 110 kV               NaN         01/05/2003   \n",
       "35    Meentycat 110 kV               NaN         01/10/2004   \n",
       "43   Ballywater 110 kV               NaN         01/05/2005   \n",
       "45    Booltiagh 110 kV               NaN         01/08/2005   \n",
       "..                 ...               ...                ...   \n",
       "307          BOGGERAGH        15/02/2020         16/10/2020   \n",
       "309          BOOLTIAGH               NaN         30/10/2020   \n",
       "310    Dunmanway 110kV               NaN         01/01/2021   \n",
       "311            Binbane               NaN         01/01/2022   \n",
       "312              CAHIR               NaN         15/03/2022   \n",
       "\n",
       "     Year_of_Connection  Nat_Grid_E__substation_  Nat_Grid_N__substation_  \\\n",
       "3                  1997                 203554.0                 382308.0   \n",
       "22                 2003                 148479.0                 328662.0   \n",
       "35                 2004                 208891.0                 402425.0   \n",
       "43                 2005                 318720.0                 144330.0   \n",
       "45                 2005                 115969.0                 170581.0   \n",
       "..                  ...                      ...                      ...   \n",
       "307                2020                 145006.0                  90090.0   \n",
       "309                2020                 114719.0                 169051.0   \n",
       "310                2021                 134600.0                  63300.0   \n",
       "311                2022                 182738.0                 384378.0   \n",
       "312                2022                 196297.0                 156240.0   \n",
       "\n",
       "     Type  \n",
       "3    Wind  \n",
       "22   Wind  \n",
       "35   Wind  \n",
       "43   Wind  \n",
       "45   Wind  \n",
       "..    ...  \n",
       "307  Wind  \n",
       "309  Wind  \n",
       "310  Wind  \n",
       "311  Wind  \n",
       "312  Wind  \n",
       "\n",
       "[86 rows x 15 columns]"
      ]
     },
     "execution_count": 99,
     "metadata": {},
     "output_type": "execute_result"
    }
   ],
   "source": [
    "wind_farm_df[~pd.isna(wind_farm_df['Installed_Capacity__MW_'])]"
   ]
  },
  {
   "cell_type": "markdown",
   "id": "ca009a73-d077-42e7-8976-33d36ecd013d",
   "metadata": {},
   "source": [
    "This data gives us the county of each wind farm, the maximum export capacity in megawatts (MEC), the installed capacity (it's unclear what the difference between the two is, but it may be that MEC is what the station was contracted for and installed capacity is what was delivered, as some rows have higher MEC than installed, some have lower MEC than installed, and many are the same or have null Installed capacity)\n",
    "\n",
    "We also have the eastings and northings of the farm's substation, which can be used as an approximation of the location of the farm itself. (it should be said that this is an approximation as the data provider notes that \"a substation may or may not be located within the site of the wind farm it serves, it should be noted that the precise accuracy of this coordinate information cannot be assured\").\n",
    "\n",
    "In order to find the closest weather station to each substation we need to get the distances between each combination of them, then find the shortest distance.\n"
   ]
  },
  {
   "cell_type": "code",
   "execution_count": 128,
   "id": "3b6632c0-7856-4304-a13c-733be5da09f2",
   "metadata": {},
   "outputs": [],
   "source": [
    "weather_station_locations = cleaned_wind_df[['station name', 'easting', 'northing']].drop_duplicates()\n",
    "\n",
    "substation_locations = wind_farm_df[['Nat_Grid_E__substation_', 'Nat_Grid_N__substation_']].rename(columns={\n",
    "    'Nat_Grid_E__substation_': 'substation_easting',\n",
    "    'Nat_Grid_N__substation_': 'substation_northing'}).drop_duplicates().reset_index(drop=True)\\\n",
    ".reset_index(names='substation_id')"
   ]
  },
  {
   "cell_type": "code",
   "execution_count": 129,
   "id": "d33cca00-edb0-4ed8-889f-59fbaa12e83e",
   "metadata": {},
   "outputs": [
    {
     "data": {
      "text/html": [
       "<div>\n",
       "<style scoped>\n",
       "    .dataframe tbody tr th:only-of-type {\n",
       "        vertical-align: middle;\n",
       "    }\n",
       "\n",
       "    .dataframe tbody tr th {\n",
       "        vertical-align: top;\n",
       "    }\n",
       "\n",
       "    .dataframe thead th {\n",
       "        text-align: right;\n",
       "    }\n",
       "</style>\n",
       "<table border=\"1\" class=\"dataframe\">\n",
       "  <thead>\n",
       "    <tr style=\"text-align: right;\">\n",
       "      <th></th>\n",
       "      <th>substation_id</th>\n",
       "      <th>substation_easting</th>\n",
       "      <th>substation_northing</th>\n",
       "    </tr>\n",
       "  </thead>\n",
       "  <tbody>\n",
       "    <tr>\n",
       "      <th>0</th>\n",
       "      <td>0</td>\n",
       "      <td>98670.0</td>\n",
       "      <td>321420.0</td>\n",
       "    </tr>\n",
       "    <tr>\n",
       "      <th>1</th>\n",
       "      <td>1</td>\n",
       "      <td>190043.0</td>\n",
       "      <td>320081.0</td>\n",
       "    </tr>\n",
       "    <tr>\n",
       "      <th>2</th>\n",
       "      <td>2</td>\n",
       "      <td>186118.0</td>\n",
       "      <td>423981.0</td>\n",
       "    </tr>\n",
       "    <tr>\n",
       "      <th>3</th>\n",
       "      <td>3</td>\n",
       "      <td>203554.0</td>\n",
       "      <td>382308.0</td>\n",
       "    </tr>\n",
       "    <tr>\n",
       "      <th>4</th>\n",
       "      <td>4</td>\n",
       "      <td>235797.0</td>\n",
       "      <td>439828.0</td>\n",
       "    </tr>\n",
       "    <tr>\n",
       "      <th>...</th>\n",
       "      <td>...</td>\n",
       "      <td>...</td>\n",
       "      <td>...</td>\n",
       "    </tr>\n",
       "    <tr>\n",
       "      <th>275</th>\n",
       "      <td>275</td>\n",
       "      <td>128934.0</td>\n",
       "      <td>121526.0</td>\n",
       "    </tr>\n",
       "    <tr>\n",
       "      <th>276</th>\n",
       "      <td>276</td>\n",
       "      <td>144554.0</td>\n",
       "      <td>89720.0</td>\n",
       "    </tr>\n",
       "    <tr>\n",
       "      <th>277</th>\n",
       "      <td>277</td>\n",
       "      <td>145006.0</td>\n",
       "      <td>90090.0</td>\n",
       "    </tr>\n",
       "    <tr>\n",
       "      <th>278</th>\n",
       "      <td>278</td>\n",
       "      <td>134600.0</td>\n",
       "      <td>63300.0</td>\n",
       "    </tr>\n",
       "    <tr>\n",
       "      <th>279</th>\n",
       "      <td>279</td>\n",
       "      <td>182738.0</td>\n",
       "      <td>384378.0</td>\n",
       "    </tr>\n",
       "  </tbody>\n",
       "</table>\n",
       "<p>280 rows × 3 columns</p>\n",
       "</div>"
      ],
      "text/plain": [
       "     substation_id  substation_easting  substation_northing\n",
       "0                0             98670.0             321420.0\n",
       "1                1            190043.0             320081.0\n",
       "2                2            186118.0             423981.0\n",
       "3                3            203554.0             382308.0\n",
       "4                4            235797.0             439828.0\n",
       "..             ...                 ...                  ...\n",
       "275            275            128934.0             121526.0\n",
       "276            276            144554.0              89720.0\n",
       "277            277            145006.0              90090.0\n",
       "278            278            134600.0              63300.0\n",
       "279            279            182738.0             384378.0\n",
       "\n",
       "[280 rows x 3 columns]"
      ]
     },
     "execution_count": 129,
     "metadata": {},
     "output_type": "execute_result"
    }
   ],
   "source": [
    "substation_locations"
   ]
  },
  {
   "cell_type": "code",
   "execution_count": 133,
   "id": "c77f973d-e8fa-4183-a37f-53ae5a6728ca",
   "metadata": {},
   "outputs": [
    {
     "data": {
      "text/html": [
       "<div>\n",
       "<style scoped>\n",
       "    .dataframe tbody tr th:only-of-type {\n",
       "        vertical-align: middle;\n",
       "    }\n",
       "\n",
       "    .dataframe tbody tr th {\n",
       "        vertical-align: top;\n",
       "    }\n",
       "\n",
       "    .dataframe thead th {\n",
       "        text-align: right;\n",
       "    }\n",
       "</style>\n",
       "<table border=\"1\" class=\"dataframe\">\n",
       "  <thead>\n",
       "    <tr style=\"text-align: right;\">\n",
       "      <th></th>\n",
       "      <th>station name</th>\n",
       "      <th>easting</th>\n",
       "      <th>northing</th>\n",
       "      <th>substation_id</th>\n",
       "      <th>substation_easting</th>\n",
       "      <th>substation_northing</th>\n",
       "      <th>distance</th>\n",
       "    </tr>\n",
       "  </thead>\n",
       "  <tbody>\n",
       "    <tr>\n",
       "      <th>0</th>\n",
       "      <td>1775</td>\n",
       "      <td>302631</td>\n",
       "      <td>117200</td>\n",
       "      <td>0</td>\n",
       "      <td>98670.0</td>\n",
       "      <td>321420.0</td>\n",
       "      <td>288627.611155</td>\n",
       "    </tr>\n",
       "    <tr>\n",
       "      <th>1</th>\n",
       "      <td>1775</td>\n",
       "      <td>302631</td>\n",
       "      <td>117200</td>\n",
       "      <td>1</td>\n",
       "      <td>190043.0</td>\n",
       "      <td>320081.0</td>\n",
       "      <td>232027.493856</td>\n",
       "    </tr>\n",
       "    <tr>\n",
       "      <th>2</th>\n",
       "      <td>1775</td>\n",
       "      <td>302631</td>\n",
       "      <td>117200</td>\n",
       "      <td>2</td>\n",
       "      <td>186118.0</td>\n",
       "      <td>423981.0</td>\n",
       "      <td>328161.333996</td>\n",
       "    </tr>\n",
       "    <tr>\n",
       "      <th>3</th>\n",
       "      <td>1775</td>\n",
       "      <td>302631</td>\n",
       "      <td>117200</td>\n",
       "      <td>3</td>\n",
       "      <td>203554.0</td>\n",
       "      <td>382308.0</td>\n",
       "      <td>283016.790302</td>\n",
       "    </tr>\n",
       "    <tr>\n",
       "      <th>4</th>\n",
       "      <td>1775</td>\n",
       "      <td>302631</td>\n",
       "      <td>117200</td>\n",
       "      <td>4</td>\n",
       "      <td>235797.0</td>\n",
       "      <td>439828.0</td>\n",
       "      <td>329477.783682</td>\n",
       "    </tr>\n",
       "    <tr>\n",
       "      <th>...</th>\n",
       "      <td>...</td>\n",
       "      <td>...</td>\n",
       "      <td>...</td>\n",
       "      <td>...</td>\n",
       "      <td>...</td>\n",
       "      <td>...</td>\n",
       "      <td>...</td>\n",
       "    </tr>\n",
       "    <tr>\n",
       "      <th>1955</th>\n",
       "      <td>375</td>\n",
       "      <td>273000</td>\n",
       "      <td>179500</td>\n",
       "      <td>275</td>\n",
       "      <td>128934.0</td>\n",
       "      <td>121526.0</td>\n",
       "      <td>155293.261386</td>\n",
       "    </tr>\n",
       "    <tr>\n",
       "      <th>1956</th>\n",
       "      <td>375</td>\n",
       "      <td>273000</td>\n",
       "      <td>179500</td>\n",
       "      <td>276</td>\n",
       "      <td>144554.0</td>\n",
       "      <td>89720.0</td>\n",
       "      <td>156712.549963</td>\n",
       "    </tr>\n",
       "    <tr>\n",
       "      <th>1957</th>\n",
       "      <td>375</td>\n",
       "      <td>273000</td>\n",
       "      <td>179500</td>\n",
       "      <td>277</td>\n",
       "      <td>145006.0</td>\n",
       "      <td>90090.0</td>\n",
       "      <td>156130.112842</td>\n",
       "    </tr>\n",
       "    <tr>\n",
       "      <th>1958</th>\n",
       "      <td>375</td>\n",
       "      <td>273000</td>\n",
       "      <td>179500</td>\n",
       "      <td>278</td>\n",
       "      <td>134600.0</td>\n",
       "      <td>63300.0</td>\n",
       "      <td>180712.478816</td>\n",
       "    </tr>\n",
       "    <tr>\n",
       "      <th>1959</th>\n",
       "      <td>375</td>\n",
       "      <td>273000</td>\n",
       "      <td>179500</td>\n",
       "      <td>279</td>\n",
       "      <td>182738.0</td>\n",
       "      <td>384378.0</td>\n",
       "      <td>223879.931052</td>\n",
       "    </tr>\n",
       "  </tbody>\n",
       "</table>\n",
       "<p>1960 rows × 7 columns</p>\n",
       "</div>"
      ],
      "text/plain": [
       "      station name  easting  northing  substation_id  substation_easting  \\\n",
       "0             1775   302631    117200              0             98670.0   \n",
       "1             1775   302631    117200              1            190043.0   \n",
       "2             1775   302631    117200              2            186118.0   \n",
       "3             1775   302631    117200              3            203554.0   \n",
       "4             1775   302631    117200              4            235797.0   \n",
       "...            ...      ...       ...            ...                 ...   \n",
       "1955           375   273000    179500            275            128934.0   \n",
       "1956           375   273000    179500            276            144554.0   \n",
       "1957           375   273000    179500            277            145006.0   \n",
       "1958           375   273000    179500            278            134600.0   \n",
       "1959           375   273000    179500            279            182738.0   \n",
       "\n",
       "      substation_northing       distance  \n",
       "0                321420.0  288627.611155  \n",
       "1                320081.0  232027.493856  \n",
       "2                423981.0  328161.333996  \n",
       "3                382308.0  283016.790302  \n",
       "4                439828.0  329477.783682  \n",
       "...                   ...            ...  \n",
       "1955             121526.0  155293.261386  \n",
       "1956              89720.0  156712.549963  \n",
       "1957              90090.0  156130.112842  \n",
       "1958              63300.0  180712.478816  \n",
       "1959             384378.0  223879.931052  \n",
       "\n",
       "[1960 rows x 7 columns]"
      ]
     },
     "execution_count": 133,
     "metadata": {},
     "output_type": "execute_result"
    }
   ],
   "source": [
    "import math\n",
    "distance_df = weather_station_locations.merge(substation_locations, how='cross')\n",
    "distance_df['distance'] = distance_df.apply(\n",
    "    lambda row: math.sqrt((row['easting']-row['substation_easting'])**2 + \n",
    "                          (row['northing']-row['substation_northing'])**2), axis=1)\n",
    "\n",
    "distance_df"
   ]
  },
  {
   "cell_type": "markdown",
   "id": "bcc9b0f3-6168-453a-b678-7cac511b3924",
   "metadata": {},
   "source": [
    "These distances are very high, it's possible that met eireann and the wind farm data providers are using different grid systems to encode locations eg. Irish national grid vs Irish Transverse Mercator, in which case we won't be able to resolve this without knowing the systems in use.\n",
    "\n",
    "The wind farm data alludes to this - \"Zipped collections of shapefiles are available in two spatial reference or coordinate systems:\n",
    "1) Irish Transverse Mercator (ITM, EPSG:2157)\n",
    "2) WGS 84 Web Mercator (EPSG:3857)\", however this refers to the shapefiles but makes no mention of the csv.\n",
    "\n",
    "It's also possible however, that these are the best estimates available to us, given that there are only 7 station datasets with the metrics we need it is likely that some of the wind farms will be quite far away from these given the sparse coverage. The two examples of our closest and farthest matches give two wind farms in Tipperary and Kerry both matching to the same weather station in Tipperary, which is not unimaginable as that is our only Munster-based dataset. This may be the more likely scenario, given that the shortest distances are around 2km and the largest are around 190km, which would be surprisingly coincidental if we were dealing with different grid systems - we would almost expect to see ludicrous distances if the systems were completely different."
   ]
  },
  {
   "cell_type": "code",
   "execution_count": 140,
   "id": "91b00881-471c-4c96-a626-d5babe004894",
   "metadata": {},
   "outputs": [
    {
     "data": {
      "text/html": [
       "<div>\n",
       "<style scoped>\n",
       "    .dataframe tbody tr th:only-of-type {\n",
       "        vertical-align: middle;\n",
       "    }\n",
       "\n",
       "    .dataframe tbody tr th {\n",
       "        vertical-align: top;\n",
       "    }\n",
       "\n",
       "    .dataframe thead th {\n",
       "        text-align: right;\n",
       "    }\n",
       "</style>\n",
       "<table border=\"1\" class=\"dataframe\">\n",
       "  <thead>\n",
       "    <tr style=\"text-align: right;\">\n",
       "      <th></th>\n",
       "      <th>station name</th>\n",
       "      <th>easting</th>\n",
       "      <th>northing</th>\n",
       "      <th>substation_easting</th>\n",
       "      <th>substation_northing</th>\n",
       "      <th>distance</th>\n",
       "    </tr>\n",
       "    <tr>\n",
       "      <th>substation_id</th>\n",
       "      <th></th>\n",
       "      <th></th>\n",
       "      <th></th>\n",
       "      <th></th>\n",
       "      <th></th>\n",
       "      <th></th>\n",
       "    </tr>\n",
       "  </thead>\n",
       "  <tbody>\n",
       "    <tr>\n",
       "      <th>56</th>\n",
       "      <td>1475</td>\n",
       "      <td>199466</td>\n",
       "      <td>198376</td>\n",
       "      <td>201502.0</td>\n",
       "      <td>197587.0</td>\n",
       "      <td>2183.533146</td>\n",
       "    </tr>\n",
       "    <tr>\n",
       "      <th>57</th>\n",
       "      <td>1475</td>\n",
       "      <td>199466</td>\n",
       "      <td>198376</td>\n",
       "      <td>201175.0</td>\n",
       "      <td>196562.0</td>\n",
       "      <td>2492.243367</td>\n",
       "    </tr>\n",
       "    <tr>\n",
       "      <th>116</th>\n",
       "      <td>532</td>\n",
       "      <td>316900</td>\n",
       "      <td>243400</td>\n",
       "      <td>322271.0</td>\n",
       "      <td>241266.0</td>\n",
       "      <td>5779.411475</td>\n",
       "    </tr>\n",
       "    <tr>\n",
       "      <th>188</th>\n",
       "      <td>532</td>\n",
       "      <td>316900</td>\n",
       "      <td>243400</td>\n",
       "      <td>320128.0</td>\n",
       "      <td>250258.0</td>\n",
       "      <td>7579.719520</td>\n",
       "    </tr>\n",
       "    <tr>\n",
       "      <th>239</th>\n",
       "      <td>675</td>\n",
       "      <td>245200</td>\n",
       "      <td>311600</td>\n",
       "      <td>254409.0</td>\n",
       "      <td>307704.0</td>\n",
       "      <td>9999.224820</td>\n",
       "    </tr>\n",
       "    <tr>\n",
       "      <th>...</th>\n",
       "      <td>...</td>\n",
       "      <td>...</td>\n",
       "      <td>...</td>\n",
       "      <td>...</td>\n",
       "      <td>...</td>\n",
       "      <td>...</td>\n",
       "    </tr>\n",
       "    <tr>\n",
       "      <th>12</th>\n",
       "      <td>1475</td>\n",
       "      <td>199466</td>\n",
       "      <td>198376</td>\n",
       "      <td>116200.0</td>\n",
       "      <td>49200.0</td>\n",
       "      <td>170841.171068</td>\n",
       "    </tr>\n",
       "    <tr>\n",
       "      <th>106</th>\n",
       "      <td>1475</td>\n",
       "      <td>199466</td>\n",
       "      <td>198376</td>\n",
       "      <td>128280.0</td>\n",
       "      <td>41645.0</td>\n",
       "      <td>172139.632151</td>\n",
       "    </tr>\n",
       "    <tr>\n",
       "      <th>58</th>\n",
       "      <td>1475</td>\n",
       "      <td>199466</td>\n",
       "      <td>198376</td>\n",
       "      <td>115778.0</td>\n",
       "      <td>44892.0</td>\n",
       "      <td>174817.103282</td>\n",
       "    </tr>\n",
       "    <tr>\n",
       "      <th>79</th>\n",
       "      <td>1475</td>\n",
       "      <td>199466</td>\n",
       "      <td>198376</td>\n",
       "      <td>104500.0</td>\n",
       "      <td>42975.0</td>\n",
       "      <td>182120.871832</td>\n",
       "    </tr>\n",
       "    <tr>\n",
       "      <th>144</th>\n",
       "      <td>1475</td>\n",
       "      <td>199466</td>\n",
       "      <td>198376</td>\n",
       "      <td>55700.0</td>\n",
       "      <td>78100.0</td>\n",
       "      <td>187443.268569</td>\n",
       "    </tr>\n",
       "  </tbody>\n",
       "</table>\n",
       "<p>280 rows × 6 columns</p>\n",
       "</div>"
      ],
      "text/plain": [
       "               station name  easting  northing  substation_easting  \\\n",
       "substation_id                                                        \n",
       "56                     1475   199466    198376            201502.0   \n",
       "57                     1475   199466    198376            201175.0   \n",
       "116                     532   316900    243400            322271.0   \n",
       "188                     532   316900    243400            320128.0   \n",
       "239                     675   245200    311600            254409.0   \n",
       "...                     ...      ...       ...                 ...   \n",
       "12                     1475   199466    198376            116200.0   \n",
       "106                    1475   199466    198376            128280.0   \n",
       "58                     1475   199466    198376            115778.0   \n",
       "79                     1475   199466    198376            104500.0   \n",
       "144                    1475   199466    198376             55700.0   \n",
       "\n",
       "               substation_northing       distance  \n",
       "substation_id                                      \n",
       "56                        197587.0    2183.533146  \n",
       "57                        196562.0    2492.243367  \n",
       "116                       241266.0    5779.411475  \n",
       "188                       250258.0    7579.719520  \n",
       "239                       307704.0    9999.224820  \n",
       "...                            ...            ...  \n",
       "12                         49200.0  170841.171068  \n",
       "106                        41645.0  172139.632151  \n",
       "58                         44892.0  174817.103282  \n",
       "79                         42975.0  182120.871832  \n",
       "144                        78100.0  187443.268569  \n",
       "\n",
       "[280 rows x 6 columns]"
      ]
     },
     "execution_count": 140,
     "metadata": {},
     "output_type": "execute_result"
    }
   ],
   "source": [
    "distance_df.sort_values('distance').groupby('substation_id').first().sort_values('distance')"
   ]
  },
  {
   "cell_type": "code",
   "execution_count": 143,
   "id": "379286f8-6283-47bc-9361-ae61df418e3c",
   "metadata": {},
   "outputs": [
    {
     "data": {
      "text/plain": [
       "date                            2008-02-06 00:00:00\n",
       "station name                                   1475\n",
       "mean_wind_speed                                11.1\n",
       "highest_wind_speed                               24\n",
       "highest_wind_speed_direction                    160\n",
       "highest_gust                                     35\n",
       "county                                    Tipperary\n",
       "name                                        GURTEEN\n",
       "height(m)                                        75\n",
       "latitude                                     53.035\n",
       "longitude                                  -8.00861\n",
       "easting                                      199466\n",
       "northing                                     198376\n",
       "Name: 43074, dtype: object"
      ]
     },
     "execution_count": 143,
     "metadata": {},
     "output_type": "execute_result"
    }
   ],
   "source": [
    "cleaned_wind_df[cleaned_wind_df['station name'] == 1475].iloc[0]"
   ]
  },
  {
   "cell_type": "code",
   "execution_count": 145,
   "id": "35a12d9c-f0f4-407f-ac66-d803798519c0",
   "metadata": {},
   "outputs": [
    {
     "data": {
      "text/html": [
       "<div>\n",
       "<style scoped>\n",
       "    .dataframe tbody tr th:only-of-type {\n",
       "        vertical-align: middle;\n",
       "    }\n",
       "\n",
       "    .dataframe tbody tr th {\n",
       "        vertical-align: top;\n",
       "    }\n",
       "\n",
       "    .dataframe thead th {\n",
       "        text-align: right;\n",
       "    }\n",
       "</style>\n",
       "<table border=\"1\" class=\"dataframe\">\n",
       "  <thead>\n",
       "    <tr style=\"text-align: right;\">\n",
       "      <th></th>\n",
       "      <th>Windfarm_Name</th>\n",
       "      <th>DSO_TSO</th>\n",
       "      <th>Connection_Ref</th>\n",
       "      <th>County</th>\n",
       "      <th>Present_Status</th>\n",
       "      <th>Installed_Capacity__MW_</th>\n",
       "      <th>MEC__MW_</th>\n",
       "      <th>Gate</th>\n",
       "      <th>F110kV_Node_Name</th>\n",
       "      <th>Target_Connection</th>\n",
       "      <th>Date_of_Connection</th>\n",
       "      <th>Year_of_Connection</th>\n",
       "      <th>Nat_Grid_E__substation_</th>\n",
       "      <th>Nat_Grid_N__substation_</th>\n",
       "      <th>Type</th>\n",
       "    </tr>\n",
       "  </thead>\n",
       "  <tbody>\n",
       "    <tr>\n",
       "      <th>57</th>\n",
       "      <td>Carrig Wind Farm</td>\n",
       "      <td>DSO</td>\n",
       "      <td>DG12</td>\n",
       "      <td>Tipperary</td>\n",
       "      <td>Connected</td>\n",
       "      <td>NaN</td>\n",
       "      <td>2.55</td>\n",
       "      <td>PMOD</td>\n",
       "      <td>Dallow</td>\n",
       "      <td>NaN</td>\n",
       "      <td>29/05/2006</td>\n",
       "      <td>2006</td>\n",
       "      <td>201502.0</td>\n",
       "      <td>197587.0</td>\n",
       "      <td>Wind</td>\n",
       "    </tr>\n",
       "  </tbody>\n",
       "</table>\n",
       "</div>"
      ],
      "text/plain": [
       "       Windfarm_Name DSO_TSO Connection_Ref     County Present_Status  \\\n",
       "57  Carrig Wind Farm     DSO           DG12  Tipperary      Connected   \n",
       "\n",
       "    Installed_Capacity__MW_  MEC__MW_  Gate F110kV_Node_Name  \\\n",
       "57                      NaN      2.55  PMOD           Dallow   \n",
       "\n",
       "   Target_Connection Date_of_Connection  Year_of_Connection  \\\n",
       "57               NaN         29/05/2006                2006   \n",
       "\n",
       "    Nat_Grid_E__substation_  Nat_Grid_N__substation_  Type  \n",
       "57                 201502.0                 197587.0  Wind  "
      ]
     },
     "execution_count": 145,
     "metadata": {},
     "output_type": "execute_result"
    }
   ],
   "source": [
    "wind_farm_df[(wind_farm_df['Nat_Grid_E__substation_'] == 201502) & (wind_farm_df['Nat_Grid_N__substation_'] == 197587)]\n"
   ]
  },
  {
   "cell_type": "code",
   "execution_count": 147,
   "id": "2fe3cbec-1968-437d-b34c-641f02eb7b4d",
   "metadata": {},
   "outputs": [
    {
     "data": {
      "text/plain": [
       "date                            2008-02-06 00:00:00\n",
       "station name                                   1475\n",
       "mean_wind_speed                                11.1\n",
       "highest_wind_speed                               24\n",
       "highest_wind_speed_direction                    160\n",
       "highest_gust                                     35\n",
       "county                                    Tipperary\n",
       "name                                        GURTEEN\n",
       "height(m)                                        75\n",
       "latitude                                     53.035\n",
       "longitude                                  -8.00861\n",
       "easting                                      199466\n",
       "northing                                     198376\n",
       "Name: 43074, dtype: object"
      ]
     },
     "execution_count": 147,
     "metadata": {},
     "output_type": "execute_result"
    }
   ],
   "source": [
    "cleaned_wind_df[cleaned_wind_df['station name'] == 1475].iloc[0]"
   ]
  },
  {
   "cell_type": "code",
   "execution_count": 146,
   "id": "b5d1dd59-62ff-41af-a32b-6bffdf12db5c",
   "metadata": {},
   "outputs": [
    {
     "data": {
      "text/html": [
       "<div>\n",
       "<style scoped>\n",
       "    .dataframe tbody tr th:only-of-type {\n",
       "        vertical-align: middle;\n",
       "    }\n",
       "\n",
       "    .dataframe tbody tr th {\n",
       "        vertical-align: top;\n",
       "    }\n",
       "\n",
       "    .dataframe thead th {\n",
       "        text-align: right;\n",
       "    }\n",
       "</style>\n",
       "<table border=\"1\" class=\"dataframe\">\n",
       "  <thead>\n",
       "    <tr style=\"text-align: right;\">\n",
       "      <th></th>\n",
       "      <th>Windfarm_Name</th>\n",
       "      <th>DSO_TSO</th>\n",
       "      <th>Connection_Ref</th>\n",
       "      <th>County</th>\n",
       "      <th>Present_Status</th>\n",
       "      <th>Installed_Capacity__MW_</th>\n",
       "      <th>MEC__MW_</th>\n",
       "      <th>Gate</th>\n",
       "      <th>F110kV_Node_Name</th>\n",
       "      <th>Target_Connection</th>\n",
       "      <th>Date_of_Connection</th>\n",
       "      <th>Year_of_Connection</th>\n",
       "      <th>Nat_Grid_E__substation_</th>\n",
       "      <th>Nat_Grid_N__substation_</th>\n",
       "      <th>Type</th>\n",
       "    </tr>\n",
       "  </thead>\n",
       "  <tbody>\n",
       "    <tr>\n",
       "      <th>154</th>\n",
       "      <td>Knockaneden Wind Farm</td>\n",
       "      <td>DSO</td>\n",
       "      <td>DG118</td>\n",
       "      <td>Kerry</td>\n",
       "      <td>Connected</td>\n",
       "      <td>NaN</td>\n",
       "      <td>9.0</td>\n",
       "      <td>Gate 2</td>\n",
       "      <td>Oughtragh</td>\n",
       "      <td>01/09/2012</td>\n",
       "      <td>14/09/2012</td>\n",
       "      <td>2012</td>\n",
       "      <td>55700.0</td>\n",
       "      <td>78100.0</td>\n",
       "      <td>Wind</td>\n",
       "    </tr>\n",
       "  </tbody>\n",
       "</table>\n",
       "</div>"
      ],
      "text/plain": [
       "             Windfarm_Name DSO_TSO Connection_Ref County Present_Status  \\\n",
       "154  Knockaneden Wind Farm     DSO          DG118  Kerry      Connected   \n",
       "\n",
       "     Installed_Capacity__MW_  MEC__MW_    Gate F110kV_Node_Name  \\\n",
       "154                      NaN       9.0  Gate 2        Oughtragh   \n",
       "\n",
       "    Target_Connection Date_of_Connection  Year_of_Connection  \\\n",
       "154        01/09/2012         14/09/2012                2012   \n",
       "\n",
       "     Nat_Grid_E__substation_  Nat_Grid_N__substation_  Type  \n",
       "154                  55700.0                  78100.0  Wind  "
      ]
     },
     "execution_count": 146,
     "metadata": {},
     "output_type": "execute_result"
    }
   ],
   "source": [
    "wind_farm_df[(wind_farm_df['Nat_Grid_E__substation_'] == 55700) & (wind_farm_df['Nat_Grid_N__substation_'] == 78100)]\n"
   ]
  },
  {
   "cell_type": "code",
   "execution_count": 148,
   "id": "7c23f1d9-c491-48ed-9365-5fff7e8d94e3",
   "metadata": {},
   "outputs": [
    {
     "data": {
      "text/plain": [
       "0          Wexford\n",
       "5947         Meath\n",
       "12758       Dublin\n",
       "43074    Tipperary\n",
       "49248    Westmeath\n",
       "67930        Cavan\n",
       "75666       Carlow\n",
       "Name: county, dtype: object"
      ]
     },
     "execution_count": 148,
     "metadata": {},
     "output_type": "execute_result"
    }
   ],
   "source": [
    "cleaned_wind_df.county.drop_duplicates()"
   ]
  },
  {
   "cell_type": "code",
   "execution_count": null,
   "id": "80f068c5-35e4-49ec-89f3-5cf61c71aa7d",
   "metadata": {},
   "outputs": [],
   "source": []
  }
 ],
 "metadata": {
  "kernelspec": {
   "display_name": "Python 3 (ipykernel)",
   "language": "python",
   "name": "python3"
  },
  "language_info": {
   "codemirror_mode": {
    "name": "ipython",
    "version": 3
   },
   "file_extension": ".py",
   "mimetype": "text/x-python",
   "name": "python",
   "nbconvert_exporter": "python",
   "pygments_lexer": "ipython3",
   "version": "3.11.5"
  }
 },
 "nbformat": 4,
 "nbformat_minor": 5
}
